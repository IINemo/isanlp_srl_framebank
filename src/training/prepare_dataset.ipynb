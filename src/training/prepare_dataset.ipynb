{
 "cells": [
  {
   "cell_type": "code",
   "execution_count": 3,
   "metadata": {},
   "outputs": [
    {
     "name": "stdout",
     "output_type": "stream",
     "text": [
      "The autoreload extension is already loaded. To reload it, use:\n",
      "  %reload_ext autoreload\n"
     ]
    }
   ],
   "source": [
    "%load_ext autoreload\n",
    "%autoreload 2\n",
    "\n",
    "import os\n",
    "os.environ['CUDA_VISIBLE_DEVICES'] = ''\n",
    "\n",
    "import sys\n",
    "sys.path.append('../')\n",
    "sys.path.append('../../libs/')\n",
    "sys.path.append('../../libs/pylingtools/')"
   ]
  },
  {
   "cell_type": "code",
   "execution_count": 4,
   "metadata": {},
   "outputs": [],
   "source": [
    "import isanlp_srl_framebank as isanlp"
   ]
  },
  {
   "cell_type": "code",
   "execution_count": 5,
   "metadata": {},
   "outputs": [
    {
     "data": {
      "text/plain": [
       "<function isanlp_srl_framebank.convert_corpus_to_brat.make_text(example, offset)>"
      ]
     },
     "execution_count": 5,
     "metadata": {},
     "output_type": "execute_result"
    }
   ],
   "source": [
    "isanlp.make_text"
   ]
  },
  {
   "cell_type": "code",
   "execution_count": 7,
   "metadata": {},
   "outputs": [],
   "source": [
    "import json"
   ]
  },
  {
   "cell_type": "code",
   "execution_count": 8,
   "metadata": {
    "ExecuteTime": {
     "end_time": "2017-02-18T12:43:32.199510",
     "start_time": "2017-02-18T12:42:24.396928"
    }
   },
   "outputs": [
    {
     "name": "stdout",
     "output_type": "stream",
     "text": [
      "Number of examples:  59861\n"
     ]
    }
   ],
   "source": [
    "input_data_path = '../../data/preprocessed_framebank/annotated_corpus.json'\n",
    "\n",
    "with open(input_data_path, 'r') as f:\n",
    "    data = json.load(f)\n",
    "    \n",
    "print('Number of examples: ', len(data))"
   ]
  },
  {
   "cell_type": "code",
   "execution_count": 15,
   "metadata": {},
   "outputs": [
    {
     "data": {
      "text/plain": [
       "[[{'lemma': 'и', 'sem': '', 'feat': 'CONJ', 'sem2': '', 'form': 'И'},\n",
       "  {'lemma': 'вдруг', 'sem': '', 'feat': 'ADV', 'sem2': '', 'form': 'вдруг'},\n",
       "  {'lemma': 'государство',\n",
       "   'sem': 't:space r:concr',\n",
       "   'feat': 'S n inan sg nom',\n",
       "   'sem2': '',\n",
       "   'form': 'государство'},\n",
       "  {'lemma': 'дрогнуть',\n",
       "   'sem': 'der:v ca:noncaus d:semelf t:move',\n",
       "   'feat': 'V pf intr act n sg praet indic',\n",
       "   'sem2': 'der:v d:semelf',\n",
       "   'form': 'дрогнуло'},\n",
       "  {'form': ','},\n",
       "  {'lemma': 'пробормотать',\n",
       "   'sem': 't:speech ca:noncaus d:pref',\n",
       "   'feat': 'V pf tran act n sg praet indic',\n",
       "   'sem2': '',\n",
       "   'form': 'пробормотало'},\n",
       "  {'form': ','},\n",
       "  {'lemma': 'что', 'sem': '', 'feat': 'CONJ', 'sem2': '', 'form': 'что'},\n",
       "  {'lemma': 'врач',\n",
       "   'sem': 't:hum r:concr',\n",
       "   'feat': 'S m anim pl acc',\n",
       "   'sem2': '',\n",
       "   'form': 'врачей'},\n",
       "  {'lemma': 'пытать',\n",
       "   'sem': 'd:root',\n",
       "   'feat': 'V ipf tran pl act praet indic',\n",
       "   'sem2': 't:speech ca:noncaus d:root',\n",
       "   'form': 'пытали'},\n",
       "  {'form': '.'}],\n",
       " [{'lemma': 'а', 'sem': '', 'feat': 'CONJ', 'sem2': '', 'form': 'А'},\n",
       "  {'lemma': 'завтра',\n",
       "   'sem': 't:time',\n",
       "   'feat': 'ADV',\n",
       "   'sem2': '',\n",
       "   'form': 'завтра'},\n",
       "  {'lemma': 'государство',\n",
       "   'sem': 't:space r:concr',\n",
       "   'feat': 'S n inan sg nom',\n",
       "   'sem2': '',\n",
       "   'form': 'государство'},\n",
       "  {'lemma': 'признать',\n",
       "   'sem': 'd:pref',\n",
       "   'feat': 'V pf tran sg act fut 3p indic',\n",
       "   'sem2': 'd:pref',\n",
       "   'form': 'признает'},\n",
       "  {'form': ','},\n",
       "  {'lemma': 'что', 'sem': '', 'feat': 'CONJ', 'sem2': '', 'form': 'что'},\n",
       "  {'lemma': 'пытка',\n",
       "   'sem': 't:impact r:abstr',\n",
       "   'feat': 'S f inan pl dat',\n",
       "   'sem2': 'r:abstr ev:neg',\n",
       "   'form': 'пыткам'},\n",
       "  {'lemma': 'подвергнуть',\n",
       "   'sem': 'der:v d:pref',\n",
       "   'feat': 'V pf tran pl act praet indic',\n",
       "   'sem2': '',\n",
       "   'form': 'подвергли'},\n",
       "  {'lemma': 'Бухарин',\n",
       "   'sem': 't:hum r:propn t:famn',\n",
       "   'feat': 'S famn m anim sg acc',\n",
       "   'sem2': '',\n",
       "   'form': 'Бухарина'},\n",
       "  {'form': '.'}],\n",
       " [{'lemma': 'Зиновьев',\n",
       "   'sem': 't:hum r:propn t:famn',\n",
       "   'feat': 'S famn m anim sg acc',\n",
       "   'sem2': '',\n",
       "   'form': 'Зиновьева'},\n",
       "  {'form': ','},\n",
       "  {'lemma': 'Каменев',\n",
       "   'sem': 't:hum r:propn t:famn',\n",
       "   'feat': 'S famn m anim sg acc',\n",
       "   'sem2': '',\n",
       "   'form': 'Каменева'},\n",
       "  {'form': ','},\n",
       "  {'lemma': 'Рыков',\n",
       "   'sem': 't:hum r:propn t:famn',\n",
       "   'feat': 'S famn m anim sg acc',\n",
       "   'sem2': '',\n",
       "   'form': 'Рыкова'},\n",
       "  {'form': ','},\n",
       "  {'lemma': 'Пятаков',\n",
       "   'sem': 't:hum r:propn t:famn',\n",
       "   'feat': 'S famn m anim sg acc',\n",
       "   'sem2': '',\n",
       "   'form': 'Пятакова'},\n",
       "  {'form': ','},\n",
       "  {'lemma': 'что', 'sem': '', 'feat': 'CONJ', 'sem2': '', 'form': 'что'},\n",
       "  {'lemma': 'Максим',\n",
       "   'sem': 't:hum r:propn t:famn t:persn',\n",
       "   'feat': 'S persn m anim sg acc',\n",
       "   'sem2': '',\n",
       "   'form': 'Максима'},\n",
       "  {'lemma': 'Горький',\n",
       "   'sem': '',\n",
       "   'feat': 'S famn m anim sg acc',\n",
       "   'sem2': 'der:subst t:famn der:a t:topon r:propn t:hum',\n",
       "   'form': 'Горького'},\n",
       "  {'lemma': 'не', 'sem': '', 'feat': 'PART', 'sem2': '', 'form': 'не'},\n",
       "  {'lemma': 'убить',\n",
       "   'sem': 't:impact ca:caus t:be:disapp d:pref',\n",
       "   'feat': 'V pf tran pl act praet indic',\n",
       "   'sem2': 'ca:caus d:pref t:be:disapp',\n",
       "   'form': 'убили'},\n",
       "  {'lemma': 'враг',\n",
       "   'sem': 't:hum r:concr',\n",
       "   'feat': 'S m anim pl nom',\n",
       "   'sem2': 't:hum:supernat pt:ind sc:hum pt:aggr t:hum r:concr',\n",
       "   'form': 'враги'},\n",
       "  {'lemma': 'народ',\n",
       "   'sem': 'pt:set sc:hum r:concr',\n",
       "   'feat': 'S m inan sg gen',\n",
       "   'sem2': 'pt:set sc:hum pt:aggr r:concr',\n",
       "   'form': 'народа'},\n",
       "  {'form': ','},\n",
       "  {'lemma': 'а', 'sem': '', 'feat': 'CONJ', 'sem2': '', 'form': 'А'},\n",
       "  {'lemma': 'послезавтра',\n",
       "   'sem': 'der:adv t:time',\n",
       "   'feat': 'ADV',\n",
       "   'sem2': '',\n",
       "   'form': 'послезавтра'},\n",
       "  {'lemma': 'государство',\n",
       "   'sem': 't:space r:concr',\n",
       "   'feat': 'S n inan sg nom',\n",
       "   'sem2': '',\n",
       "   'form': 'государство'},\n",
       "  {'lemma': 'признать',\n",
       "   'sem': 'd:pref',\n",
       "   'feat': 'V pf tran sg act fut 3p indic',\n",
       "   'sem2': 'd:pref',\n",
       "   'form': 'признает'},\n",
       "  {'form': ','},\n",
       "  {'lemma': 'что', 'sem': '', 'feat': 'CONJ', 'sem2': '', 'form': 'что'},\n",
       "  {'lemma': 'миллион',\n",
       "   'sem': 'r:abstr t:card',\n",
       "   'feat': 'S m inan pl nom',\n",
       "   'sem2': '',\n",
       "   'form': 'миллионы'},\n",
       "  {'lemma': 'крестьянин',\n",
       "   'sem': 't:hum r:concr',\n",
       "   'feat': 'S m anim pl gen',\n",
       "   'sem2': '',\n",
       "   'form': 'крестьян'},\n",
       "  {'lemma': 'быть',\n",
       "   'sem': 't:be:exist ca:noncaus d:root',\n",
       "   'feat': 'V ipf intr act pl praet indic',\n",
       "   'sem2': 'ca:noncaus d:root',\n",
       "   'form': 'были'},\n",
       "  {'lemma': 'зря', 'sem': 'ev:neg', 'feat': 'ADV', 'sem2': '', 'form': 'зря'},\n",
       "  {'lemma': 'погубить',\n",
       "   'sem': 'ca:caus t:be:disapp d:pref',\n",
       "   'feat': 'V pf tran partcp pl brev pass praet',\n",
       "   'sem2': '',\n",
       "   'form': 'погублены'},\n",
       "  {'form': '.'}]]"
      ]
     },
     "execution_count": 15,
     "metadata": {},
     "output_type": "execute_result"
    }
   ],
   "source": [
    "data['89370'][]"
   ]
  },
  {
   "cell_type": "code",
   "execution_count": 9,
   "metadata": {
    "ExecuteTime": {
     "end_time": "2017-02-18T12:16:05.953030",
     "start_time": "2017-02-18T12:16:03.543901"
    }
   },
   "outputs": [
    {
     "name": "stdout",
     "output_type": "stream",
     "text": [
      "Original number of verbs:  803\n",
      "Number of left verbs:  572\n"
     ]
    }
   ],
   "source": [
    "#from convert_corpus_to_brat import make_text, create_verb_example_index\n",
    "\n",
    "min_n_examples = 10\n",
    "\n",
    "verb_index = isanlp.create_verb_example_index(data)\n",
    "print('Original number of verbs: ', len(verb_index))\n",
    "\n",
    "stat = sorted([(verb, len(examples)) for verb, examples in verb_index.items()], \n",
    "              key = lambda x: x[1], reverse=True)\n",
    "\n",
    "verbs_to_keep = [verb for verb, count in stat if count >= min_n_examples]\n",
    "print('Number of left verbs: ', len(verbs_to_keep))"
   ]
  },
  {
   "cell_type": "markdown",
   "metadata": {},
   "source": [
    "## Убирает примеры с малым числом примеров + некоторые роли, которые не стоит рассматривать\n",
    "## FrameBank - датасет глаголов и примеров"
   ]
  },
  {
   "cell_type": "code",
   "execution_count": 10,
   "metadata": {
    "ExecuteTime": {
     "end_time": "2017-02-18T12:16:06.010150",
     "start_time": "2017-02-18T12:16:05.954506"
    }
   },
   "outputs": [
    {
     "name": "stdout",
     "output_type": "stream",
     "text": [
      "Number of framebank examples left:  32612\n"
     ]
    }
   ],
   "source": [
    "examples = list()\n",
    "\n",
    "for verb in verbs_to_keep:\n",
    "    indexes = verb_index[verb]\n",
    "    \n",
    "    for ind in indexes:\n",
    "        examples.append((ind, data[ind]))\n",
    "\n",
    "print('Number of framebank examples left: ', len(examples))"
   ]
  },
  {
   "cell_type": "code",
   "execution_count": 11,
   "metadata": {},
   "outputs": [],
   "source": [
    "cleared_corpus_path = '../../data/cleared_corpus.json'"
   ]
  },
  {
   "cell_type": "code",
   "execution_count": 12,
   "metadata": {},
   "outputs": [],
   "source": [
    "with open(cleared_corpus_path, 'w') as f:\n",
    "    json.dump(examples, f)"
   ]
  },
  {
   "cell_type": "code",
   "execution_count": null,
   "metadata": {},
   "outputs": [],
   "source": []
  }
 ],
 "metadata": {
  "kernelspec": {
   "display_name": "Python 3",
   "language": "python",
   "name": "python3"
  },
  "language_info": {
   "codemirror_mode": {
    "name": "ipython",
    "version": 3
   },
   "file_extension": ".py",
   "mimetype": "text/x-python",
   "name": "python",
   "nbconvert_exporter": "python",
   "pygments_lexer": "ipython3",
   "version": "3.6.4"
  }
 },
 "nbformat": 4,
 "nbformat_minor": 2
}
