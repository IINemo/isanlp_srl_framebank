{
 "cells": [
  {
   "cell_type": "code",
   "execution_count": null,
   "metadata": {},
   "outputs": [],
   "source": [
    "import sys\n",
    "sys.path.append(\"../\")"
   ]
  },
  {
   "cell_type": "code",
   "execution_count": null,
   "metadata": {},
   "outputs": [],
   "source": [
    "import json\n",
    "from pprint import pprint as print_\n",
    "from collections import OrderedDict\n",
    "import numpy as np\n",
    "from numpy.random import RandomState\n",
    "from tqdm import tqdm_notebook as tqdm\n",
    "\n",
    "from isanlp_srl_framebank.pipeline_default import PipelineDefault"
   ]
  },
  {
   "cell_type": "code",
   "execution_count": null,
   "metadata": {},
   "outputs": [],
   "source": [
    "random_seed = 41"
   ]
  },
  {
   "cell_type": "code",
   "execution_count": null,
   "metadata": {},
   "outputs": [],
   "source": [
    "roleset44 = {\n",
    " 'содержание высказывания',\n",
    " 'говорящий',\n",
    " 'субъект социального отношения',\n",
    " 'субъект психологического состояния',\n",
    " 'содержание действия',\n",
    " 'агенс',\n",
    " 'тема',\n",
    " 'конечная точка',\n",
    " 'сфера',\n",
    " 'контрагент',\n",
    " 'субъект перемещения',\n",
    " 'причина',\n",
    " 'субъект поведения',\n",
    " 'ситуация в фокусе',\n",
    " 'исходный посессор',\n",
    " 'субъект физиологической реакции',\n",
    " 'адресат',\n",
    " 'пациенс',\n",
    " 'срок',\n",
    " 'источник звука',\n",
    " 'место',\n",
    " 'признак',\n",
    " 'потенциальная угроза',\n",
    " 'субъект ментального состояния',\n",
    " 'конечный посессор',\n",
    " 'результат',\n",
    " 'стимул',\n",
    " 'субъект восприятия',\n",
    " 'эффектор',\n",
    " 'траектория',\n",
    " 'содержание мысли',\n",
    " 'пациенс перемещения',\n",
    " 'каузатор',\n",
    " 'предмет высказывания',\n",
    " 'начальная точка',\n",
    " 'способ',\n",
    " 'пациенс социального отношения',\n",
    " 'статус',\n",
    " 'предмет мысли',\n",
    " 'цель',\n",
    " 'потенциальный пациенс',\n",
    " 'контрагент социального отношения',\n",
    " 'эталон',\n",
    " 'признак действия'}"
   ]
  },
  {
   "cell_type": "code",
   "execution_count": null,
   "metadata": {},
   "outputs": [],
   "source": [
    "ARGUMENT_POSTAGS = {\n",
    "        'NOUN',\n",
    "        'PRON',\n",
    "        'ADJ',\n",
    "        'PROPN'\n",
    "    }"
   ]
  },
  {
   "cell_type": "code",
   "execution_count": null,
   "metadata": {},
   "outputs": [],
   "source": [
    "def get_roles_pred(lemma, role_annot, part_id):\n",
    "    ann_sent = role_annot[part_id]\n",
    "    predicates = {}\n",
    "    arguments = {}\n",
    "    for event in ann_sent:\n",
    "        predicate = {\n",
    "            'lemma': lemma[part_id][event.pred[0]],\n",
    "        }\n",
    "        predicates[event.pred[0]] = predicate\n",
    "        arguments[event.pred[0]] = []\n",
    "        for arg in event.args:\n",
    "            argument = {\n",
    "                'tag': arg.tag,\n",
    "                'lemma': lemma[part_id][arg.begin],\n",
    "                'idx': arg.begin\n",
    "            }\n",
    "            arguments[event.pred[0]].append(argument)\n",
    "            \n",
    "    return predicates, arguments\n",
    "\n",
    "\n",
    "def get_example(corpus, ex_number, part_id):\n",
    "    words = []\n",
    "    for obj in corpus[ex_number][1][part_id]:\n",
    "        word = obj['form']\n",
    "        for symbol in ':;,.!?':\n",
    "            word = word.replace(' ' + symbol, symbol)\n",
    "        words.append(word)\n",
    "        \n",
    "    return ' '.join(words)\n",
    "\n",
    "\n",
    "def get_roles_true(annot, corpus, ex_number, part_id):\n",
    "    predicates = {}\n",
    "    arguments = {}\n",
    "    postags = [item for sublist in annot['postag'] for item in sublist]\n",
    "    for i, obj in enumerate(corpus[ex_number][1][part_id]):\n",
    "        if 'rank' in obj:\n",
    "            if obj['rank'] == 'Предикат':\n",
    "                predicate = {\n",
    "                    'lemma': obj['lemma']\n",
    "                }\n",
    "                predicates[i] = predicate\n",
    "            else:\n",
    "                if 'lemma' not in obj:\n",
    "                    argument = {\n",
    "                        'lemma': obj['form'],\n",
    "                        'tag': obj['rolepred1'],\n",
    "                        'idx': i\n",
    "                    }\n",
    "                else:\n",
    "                    argument = {\n",
    "                        'lemma': obj['lemma'],\n",
    "                        'tag': obj['rolepred1'],\n",
    "                        'idx': i\n",
    "                    }\n",
    "                \n",
    "                argument['postag'] = postags[argument['idx']]\n",
    "                pred_id = obj['fillpred']\n",
    "                if pred_id not in arguments.keys():\n",
    "                    arguments[pred_id] = []\n",
    "                arguments[pred_id].append(argument)\n",
    "                \n",
    "    return predicates, arguments"
   ]
  },
  {
   "cell_type": "code",
   "execution_count": null,
   "metadata": {},
   "outputs": [],
   "source": [
    "def random_predictions(corpus, ppl, n_samples=100):\n",
    "    np.random.seed(random_seed)\n",
    "    samples_idxs = np.random.choice(len(corpus), size=n_samples)\n",
    "    \n",
    "    texts = [get_example(corpus, ex_num, 0) for ex_num in samples_idxs]\n",
    "    annotations = [ppl(text) for text in tqdm(texts, desc='Analyzing texts')]\n",
    "    pred_roles = [get_roles_pred(res['lemma'], res['srl'], 0) for res in annotations]\n",
    "    \n",
    "    true_roles = [get_roles_true(annotations[i], corpus, ex_num, 0) for i, ex_num in enumerate(samples_idxs)]\n",
    "    \n",
    "    \n",
    "    repl_roles = {\n",
    "        'агенс - субъект восприятия' : 'субъект восприятия',\n",
    "        'агенс - субъект ментального состояния' : 'субъект ментального состояния',\n",
    "        'результат / цель' : 'результат',\n",
    "        'место - пациенс' : 'место',\n",
    "        'говорящий - субъект психологического состояния' : 'субъект психологического состояния'\n",
    "    }\n",
    "    \n",
    "    for role, val in repl_roles.items():\n",
    "        for pair in true_roles:\n",
    "            for _, args in pair[1].items():\n",
    "                for arg in args:\n",
    "                    arg['tag'] = arg['tag'].replace(role, val)\n",
    "                    \n",
    "    return true_roles, pred_roles, texts\n",
    "\n",
    "\n",
    "def compute_metrics(y_pred, y_true, report_to=sys.stdout, roleset=roleset44, idxmatching=False):\n",
    "    true_positive = 0\n",
    "    condition_positive = 0\n",
    "    predicted_condition_positive = 0\n",
    "    error_examples = []\n",
    "    \n",
    "    print_func = lambda x: print(x, file=report_to)\n",
    "    \n",
    "    for i, (true_predicates, true_arguments) in enumerate(y_true):\n",
    "        print_func(f\"Inspecting example {i}\")\n",
    "        print_func(f\"Expecting true predicates {true_predicates}\")\n",
    "        print_func(f\"Expecting true arguments  {true_arguments}\")\n",
    "        \n",
    "        pred_predicates, pred_arguments = y_pred[i]\n",
    "\n",
    "        print_func(f\"Got predicted predicates  {pred_predicates}\")\n",
    "        print_func(f\"Got predicted arguments   {pred_arguments}\")\n",
    "        \n",
    "        print_func(\"-\"*60)\n",
    "        \n",
    "        for true_pred_idx, true_predicate in true_predicates.items():\n",
    "            if true_pred_idx in pred_predicates:\n",
    "                print_func(f\"Matched predicate {true_pred_idx} = {true_predicate}\")\n",
    "                \n",
    "                true = true_arguments[true_pred_idx]\n",
    "                pred_arguments_i = pred_arguments[true_pred_idx]\n",
    "                \n",
    "                true_arguments_i = []\n",
    "                \n",
    "                for idx, true_argument in enumerate(true):\n",
    "                    if true_argument['tag'] in roleset and true_argument['postag'] in ARGUMENT_POSTAGS:\n",
    "                        true_arguments_i.append(true[idx])\n",
    "                        \n",
    "                if true_arguments_i:\n",
    "                    print_func(f\"Expecting arguments  {true_arguments_i}\")\n",
    "                    print_func(f\"Got predicted        {pred_arguments_i}\")\n",
    "                    print_func(f\"Predicted Condition Positive = {len(pred_arguments_i)}\")\n",
    "                    print_func(f\"Condition Positive           = {len(true_arguments_i)}\")\n",
    "                    condition_positive += len(true_arguments_i)\n",
    "                    condition_positive_i = len(true_arguments_i)\n",
    "                    predicted_condition_positive += len(pred_arguments_i)\n",
    "\n",
    "                    true_positive_i = 0\n",
    "\n",
    "                    error_report = {\n",
    "                        'example_idx' : i,\n",
    "                        'predicate': true_predicate,\n",
    "                        'true_arguments' : true_arguments_i,\n",
    "                        'predicted_arguments': pred_arguments_i\n",
    "                    }\n",
    "\n",
    "                    for j, obj in enumerate(true_arguments_i):\n",
    "                        true_tag = obj['tag']\n",
    "                        true_lemma = obj['lemma']\n",
    "                        true_idx = obj['idx']\n",
    "                        for obj_pred in pred_arguments_i:\n",
    "                            if idxmatching:\n",
    "                                if obj_pred['idx'] == true_idx:\n",
    "                                    true_positive_i += 1\n",
    "                            else:\n",
    "                                if obj_pred['idx'] == true_idx:\n",
    "                                    true_positive_i += 1\n",
    "\n",
    "                    print_func(f\"True Positive = {true_positive_i}\")\n",
    "                    if true_positive_i != condition_positive_i:\n",
    "                        error_examples.append(error_report)\n",
    "\n",
    "                    true_positive += true_positive_i\n",
    "                \n",
    "        print_func(\"=\"*60)\n",
    "       \n",
    "    recall = true_positive/condition_positive\n",
    "    precision = true_positive/predicted_condition_positive\n",
    "    \n",
    "    return {\n",
    "        'recall': recall,\n",
    "        'precision': precision,\n",
    "        'f1': 2 * ((precision*recall)/(precision+recall)),\n",
    "        'errors': error_examples\n",
    "    }"
   ]
  },
  {
   "cell_type": "code",
   "execution_count": null,
   "metadata": {
    "scrolled": true
   },
   "outputs": [],
   "source": [
    "#corpus_name = 'annotated_corpus_fixed+syntaxnet.json'\n",
    "corpus_path = '../../data/cleared_corpus.json'\n",
    "with open(corpus_path, 'r', encoding='utf-8') as f:\n",
    "    corpus = json.load(f)"
   ]
  },
  {
   "cell_type": "code",
   "execution_count": null,
   "metadata": {},
   "outputs": [],
   "source": [
    "import isanlp"
   ]
  },
  {
   "cell_type": "code",
   "execution_count": null,
   "metadata": {
    "scrolled": true
   },
   "outputs": [],
   "source": [
    "! pip install -U git+https://github.com/tchewik/isanlp_srl_framebank.git"
   ]
  },
  {
   "cell_type": "markdown",
   "metadata": {},
   "source": [
    "### Metrics of argument extraction quality"
   ]
  },
  {
   "cell_type": "code",
   "execution_count": null,
   "metadata": {},
   "outputs": [],
   "source": [
    "host = 'vmh2.isa.ru'\n",
    "host2 = 'echistova.isa.ru'\n",
    "ppl = PipelineDefault(address_morph=(host, 4333),\n",
    "                       address_syntax=(host, 4334),\n",
    "                       address_srl=(host2, 4335))"
   ]
  },
  {
   "cell_type": "code",
   "execution_count": null,
   "metadata": {
    "scrolled": true
   },
   "outputs": [],
   "source": [
    "true_roles, pred_roles, texts = random_predictions(corpus, ppl, n_samples=400)"
   ]
  },
  {
   "cell_type": "code",
   "execution_count": null,
   "metadata": {
    "scrolled": true
   },
   "outputs": [],
   "source": [
    "log_path = 'log_idx.txt'\n",
    "results = compute_metrics(y_pred=pred_roles, y_true=true_roles, \n",
    "                          report_to=open(log_path, 'w', encoding='utf-8'), \n",
    "                          idxmatching=True)\n",
    "\n",
    "copyres = dict(results)\n",
    "del copyres['errors']\n",
    "print_(copyres)"
   ]
  },
  {
   "cell_type": "markdown",
   "metadata": {},
   "source": [
    "#### Errors "
   ]
  },
  {
   "cell_type": "code",
   "execution_count": null,
   "metadata": {},
   "outputs": [],
   "source": [
    "import pandas as pd\n",
    "\n",
    "ff = pd.DataFrame(results['errors'])"
   ]
  },
  {
   "cell_type": "code",
   "execution_count": null,
   "metadata": {},
   "outputs": [],
   "source": [
    "def neatify(text):\n",
    "    return text.replace(' ,', ',')\\\n",
    "                .replace(' .', '.')\\\n",
    "                .replace(' ) ', ') ')\\\n",
    "                .replace(' ( ', ' (')\\\n",
    "                .replace(' : ', ': ')\n",
    "                \n",
    "ff['text'] = ff.example_idx.map(lambda idx: neatify(texts[idx]))"
   ]
  },
  {
   "cell_type": "code",
   "execution_count": null,
   "metadata": {},
   "outputs": [],
   "source": [
    "pd.set_option('display.max_colwidth', -1)"
   ]
  },
  {
   "cell_type": "code",
   "execution_count": null,
   "metadata": {
    "scrolled": true
   },
   "outputs": [],
   "source": [
    "ff"
   ]
  }
 ],
 "metadata": {
  "kernelspec": {
   "display_name": "Python 3",
   "language": "python",
   "name": "python3"
  },
  "language_info": {
   "codemirror_mode": {
    "name": "ipython",
    "version": 3
   },
   "file_extension": ".py",
   "mimetype": "text/x-python",
   "name": "python",
   "nbconvert_exporter": "python",
   "pygments_lexer": "ipython3",
   "version": "3.6.7"
  }
 },
 "nbformat": 4,
 "nbformat_minor": 2
}
