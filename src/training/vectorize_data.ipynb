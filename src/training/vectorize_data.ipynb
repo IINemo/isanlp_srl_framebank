{
 "cells": [
  {
   "cell_type": "code",
   "execution_count": 1,
   "metadata": {},
   "outputs": [],
   "source": [
    "%load_ext autoreload\n",
    "%autoreload 2\n",
    "\n",
    "import os\n",
    "os.environ['CUDA_VISIBLE_DEVICES'] = ''"
   ]
  },
  {
   "cell_type": "code",
   "execution_count": 2,
   "metadata": {},
   "outputs": [],
   "source": [
    "import json\n",
    "import pandas\n",
    "from gensim.models.keyedvectors import KeyedVectors\n",
    "import vectorization"
   ]
  },
  {
   "cell_type": "code",
   "execution_count": 7,
   "metadata": {},
   "outputs": [],
   "source": [
    "#embeddings_path = '../../data/ruscorpora_mystem_cbow_300_2_2015.bin'\n",
    "embeddings_path = '/notebook/data/embeddings/ruscorpora_upos_skipgram_300_5_2018.vec'\n",
    "word_vectors = KeyedVectors.load_word2vec_format(embeddings_path, binary=False) "
   ]
  },
  {
   "cell_type": "code",
   "execution_count": 6,
   "metadata": {},
   "outputs": [],
   "source": [
    "data_path = '../../data/models_new/known_preds/features.csv'\n",
    "feature_config_path = '../../data/models_new/known_preds/feature_vectorization_config.json'\n",
    "vectors_dir = '../../data/models_new/known_preds/tensors/'"
   ]
  },
  {
   "cell_type": "code",
   "execution_count": 8,
   "metadata": {},
   "outputs": [
    {
     "name": "stdout",
     "output_type": "stream",
     "text": [
      "{'features': [{'name': 'role', 'type': ''}, {'name': 'arg_lemma', 'type': 'embedding'}, {'name': 'pred_lemma', 'type': 'embedding'}, {'name': 'dist', 'type': ''}, {'name': 'arg_case', 'type': ''}, {'name': 'pred_pos', 'type': ''}, {'name': 'arg_pos', 'type': ''}, {'name': 'syn_link_name', 'type': ''}, {'name': 'prepos', 'type': ''}, {'name': 'Aspect_arg', 'type': ''}, {'name': 'Number_arg', 'type': ''}, {'name': 'Tense_arg', 'type': ''}, {'name': 'Valency_arg', 'type': ''}, {'name': 'VerbForm_arg', 'type': ''}, {'name': 'Animacy_arg', 'type': ''}, {'name': 'Gender_arg', 'type': ''}, {'name': 'rel_pos', 'type': 'cont'}]}\n",
      "role\n",
      "arg_lemma\n",
      "pred_lemma\n",
      "dist\n",
      "arg_case\n",
      "pred_pos\n",
      "arg_pos\n",
      "syn_link_name\n",
      "prepos\n",
      "Aspect_arg\n",
      "Number_arg\n",
      "Tense_arg\n",
      "Valency_arg\n",
      "VerbForm_arg\n",
      "Animacy_arg\n",
      "Gender_arg\n",
      "rel_pos\n",
      "CPU times: user 12 s, sys: 377 ms, total: 12.4 s\n",
      "Wall time: 12.4 s\n"
     ]
    }
   ],
   "source": [
    "%%time\n",
    "\n",
    "data = pandas.read_csv(data_path, index_col = 0)\n",
    "\n",
    "with open(feature_config_path, 'r') as f:\n",
    "    feature_config = json.load(f)\n",
    "    \n",
    "print(feature_config)\n",
    "    \n",
    "vectors = vectorization.vectorize_features(data, word_vectors, feature_config)\n",
    "vectorization.save_vectors(vectors_dir, vectors)"
   ]
  }
 ],
 "metadata": {
  "kernelspec": {
   "display_name": "Python 3",
   "language": "python",
   "name": "python3"
  },
  "language_info": {
   "codemirror_mode": {
    "name": "ipython",
    "version": 3
   },
   "file_extension": ".py",
   "mimetype": "text/x-python",
   "name": "python",
   "nbconvert_exporter": "python",
   "pygments_lexer": "ipython3",
   "version": "3.6.4"
  }
 },
 "nbformat": 4,
 "nbformat_minor": 2
}
