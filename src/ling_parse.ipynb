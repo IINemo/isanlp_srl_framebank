{
 "cells": [
  {
   "cell_type": "code",
   "execution_count": 1,
   "metadata": {},
   "outputs": [],
   "source": [
    "%load_ext autoreload\n",
    "%autoreload 2\n",
    "\n",
    "import os\n",
    "os.environ['CUDA_VISIBLE_DEVICES'] = ''\n",
    "\n",
    "\n",
    "import sys\n",
    "\n",
    "sys.path.append('/notebook/framebank_parser/roleinduction/ri_tools/src/liash')\n",
    "sys.path.append('/notebook/framebank_parser/roleinduction/pylingtools/src/')\n",
    "sys.path.append('./isanlp/src/')"
   ]
  },
  {
   "cell_type": "code",
   "execution_count": 5,
   "metadata": {},
   "outputs": [],
   "source": [
    "import os\n",
    "import time\n",
    "import pickle\n",
    "import isanlp\n",
    "import json"
   ]
  },
  {
   "cell_type": "code",
   "execution_count": 6,
   "metadata": {},
   "outputs": [],
   "source": [
    "from isanlp.processor_remote import ProcessorRemote\n",
    "from isanlp.ru.converter_mystem_to_ud import ConverterMystemToUd\n",
    "from isanlp import PipelineCommon\n",
    "from isanlp.ru.processor_mystem import ProcessorMystem\n",
    "from isanlp.ru.processor_tokenizer_ru import ProcessorTokenizerRu\n",
    "from isanlp.processor_sentence_splitter import ProcessorSentenceSplitter\n",
    "from isanlp.processor_syntaxnet_remote import ProcessorSyntaxNetRemote\n",
    "from isanlp import PipelineCommon"
   ]
  },
  {
   "cell_type": "markdown",
   "metadata": {},
   "source": [
    "# Parse framebank"
   ]
  },
  {
   "cell_type": "code",
   "execution_count": 3,
   "metadata": {},
   "outputs": [
    {
     "name": "stderr",
     "output_type": "stream",
     "text": [
      "100%|██████████| 2/2 [00:01<00:00,  1.17it/s]\n"
     ]
    },
    {
     "data": {
      "text/plain": [
       "[{'lemma': [['мама', 'мыть', 'рама', '.']],\n",
       "  'mystem_postags': [['S,жен,од=им,ед',\n",
       "    'V,несов,пе=прош,ед,изъяв,жен',\n",
       "    'S,жен,неод=вин,ед',\n",
       "    '']],\n",
       "  'postag': [[{'Animacy': 'Anim',\n",
       "     'Case': 'Nom',\n",
       "     'Gender': 'Fem',\n",
       "     'Number': 'Sing',\n",
       "     'fPOS': 'NOUN'},\n",
       "    {'Aspect': 'Imp',\n",
       "     'Gender': 'Fem',\n",
       "     'Number': 'Sing',\n",
       "     'Tense': 'Past',\n",
       "     'Valency': 'TR',\n",
       "     'VerbForm': 'Fin',\n",
       "     'fPOS': 'VERB'},\n",
       "    {'Animacy': 'Inan',\n",
       "     'Case': 'Acc',\n",
       "     'Gender': 'Fem',\n",
       "     'Number': 'Sing',\n",
       "     'fPOS': 'NOUN'},\n",
       "    {}]],\n",
       "  'sentences': [<isanlp.annotation.Sentence at 0x7f0e1d9999e8>],\n",
       "  'syntax_dep_tree': [[<isanlp.annotation.WordSynt at 0x7f0e1d999d30>,\n",
       "    <isanlp.annotation.WordSynt at 0x7f0e1d999dd8>,\n",
       "    <isanlp.annotation.WordSynt at 0x7f0e1d999e48>,\n",
       "    <isanlp.annotation.WordSynt at 0x7f0e1d999eb8>]],\n",
       "  'text': 'Мама мыла раму.',\n",
       "  'tokens': [<isanlp.annotation.Token at 0x7f0e1d999ba8>,\n",
       "   <isanlp.annotation.Token at 0x7f0e1d999ac8>,\n",
       "   <isanlp.annotation.Token at 0x7f0e1d999be0>,\n",
       "   <isanlp.annotation.Token at 0x7f0e1d999c18>]},\n",
       " {'lemma': [['папа', 'чинить', 'машина', '.']],\n",
       "  'mystem_postags': [['S,муж,од=им,ед',\n",
       "    'V,несов,пе=прош,ед,изъяв,муж',\n",
       "    'S,жен,неод=вин,ед',\n",
       "    '']],\n",
       "  'postag': [[{'Animacy': 'Anim',\n",
       "     'Case': 'Nom',\n",
       "     'Gender': 'Masc',\n",
       "     'Number': 'Sing',\n",
       "     'fPOS': 'NOUN'},\n",
       "    {'Aspect': 'Imp',\n",
       "     'Gender': 'Masc',\n",
       "     'Number': 'Sing',\n",
       "     'Tense': 'Past',\n",
       "     'Valency': 'TR',\n",
       "     'VerbForm': 'Fin',\n",
       "     'fPOS': 'VERB'},\n",
       "    {'Animacy': 'Inan',\n",
       "     'Case': 'Acc',\n",
       "     'Gender': 'Fem',\n",
       "     'Number': 'Sing',\n",
       "     'fPOS': 'NOUN'},\n",
       "    {}]],\n",
       "  'sentences': [<isanlp.annotation.Sentence at 0x7f0e1d9a2470>],\n",
       "  'syntax_dep_tree': [[<isanlp.annotation.WordSynt at 0x7f0e1d9a2630>,\n",
       "    <isanlp.annotation.WordSynt at 0x7f0e1d9a26a0>,\n",
       "    <isanlp.annotation.WordSynt at 0x7f0e1d9a2710>,\n",
       "    <isanlp.annotation.WordSynt at 0x7f0e1d9a2780>]],\n",
       "  'text': 'Папа чинил машину.',\n",
       "  'tokens': [<isanlp.annotation.Token at 0x7f0e1d9a24a8>,\n",
       "   <isanlp.annotation.Token at 0x7f0e1d9a24e0>,\n",
       "   <isanlp.annotation.Token at 0x7f0e1d9a2518>,\n",
       "   <isanlp.annotation.Token at 0x7f0e1d9a2550>]}]"
      ]
     },
     "execution_count": 3,
     "metadata": {},
     "output_type": "execute_result"
    }
   ],
   "source": [
    "from isanlp.wrapper_multi_process_document import WrapperMultiProcessDocument\n",
    "\n",
    "\n",
    "ppl = WrapperMultiProcessDocument(\n",
    "    [\n",
    "        PipelineCommon([(ProcessorRemote('192.168.0.104', 3333, 'default'), \n",
    "                         ['text'], \n",
    "                         {'sentences' : 'sentences', \n",
    "                          'tokens' : 'tokens',\n",
    "                          'postag' : 'mystem_postags',\n",
    "                          'lemma' : 'lemma'}),\n",
    "                        (ProcessorSyntaxNetRemote(addr, port), \n",
    "                         ['tokens', 'sentences'], \n",
    "                         {'syntax_dep_tree' : 'syntax_dep_tree'}),\n",
    "                        (ConverterMystemToUd(), \n",
    "                         ['mystem_postags'], \n",
    "                         {0 : 'postag'})])\n",
    "        for addr, port in [('exn40.isa.ru', 8200), \n",
    "                           ('exn40.isa.ru', 8201),\n",
    "                           ('exn40.isa.ru', 8202),\n",
    "                           ('exn40.isa.ru', 8203),\n",
    "                           ('exn40.isa.ru', 8204),\n",
    "                           ('exn40.isa.ru', 8205),\n",
    "                           ('exn40.isa.ru', 8206),\n",
    "                           ('exn40.isa.ru', 8207),\n",
    "                           ('exn40.isa.ru', 8208),\n",
    "                           ('exn40.isa.ru', 8209),\n",
    "                           \n",
    "                           #('exn40.isa.ru', 8113),\n",
    "                           ('vmh1.isa.ru', 8200),\n",
    "                           ('vmh1.isa.ru', 8201),\n",
    "                           ('vmh1.isa.ru', 8202),\n",
    "                           ('vmh1.isa.ru', 8203),\n",
    "                           ('vmh1.isa.ru', 8204),\n",
    "                           \n",
    "                           ('vmh2.isa.ru', 8200),\n",
    "                           ('vmh2.isa.ru', 8201),\n",
    "                           ('vmh2.isa.ru', 8202),\n",
    "                           ('vmh2.isa.ru', 8203),\n",
    "                           ('vmh2.isa.ru', 8204),\n",
    "                           ('vmh2.isa.ru', 8205),\n",
    "                           ('vmh2.isa.ru', 8206),\n",
    "                           ('vmh2.isa.ru', 8207),\n",
    "                           ('vmh2.isa.ru', 8208),\n",
    "                           \n",
    "                           ('192.168.0.104', 8200),\n",
    "                           ('192.168.0.104', 8201)]\n",
    "    ]\n",
    ")\n",
    "\n",
    "ppl(['Мама мыла раму.', 'Папа чинил машину.'])    "
   ]
  },
  {
   "cell_type": "code",
   "execution_count": 4,
   "metadata": {},
   "outputs": [
    {
     "name": "stdout",
     "output_type": "stream",
     "text": [
      "Number of examples:  32612\n"
     ]
    }
   ],
   "source": [
    "input_data_path = 'data/cleared_corpus.json'\n",
    "\n",
    "with open(input_data_path, 'r') as f:\n",
    "    data = json.load(f)\n",
    "    \n",
    "print('Number of examples: ', len(data))"
   ]
  },
  {
   "cell_type": "code",
   "execution_count": 5,
   "metadata": {},
   "outputs": [],
   "source": [
    "from isanlp.wrapper_multi_process_document import split_equally\n",
    "data_pts = split_equally(data, 8)"
   ]
  },
  {
   "cell_type": "code",
   "execution_count": 6,
   "metadata": {},
   "outputs": [
    {
     "name": "stderr",
     "output_type": "stream",
     "text": [
      "100%|██████████| 4076/4076 [03:54<00:00, 17.36it/s]\n",
      "100%|██████████| 4076/4076 [04:39<00:00, 14.58it/s]\n",
      "100%|██████████| 4076/4076 [05:14<00:00, 12.97it/s]\n",
      "100%|██████████| 4076/4076 [05:56<00:00, 11.43it/s]\n",
      "100%|██████████| 4077/4077 [06:37<00:00, 10.26it/s]\n",
      "100%|██████████| 4077/4077 [07:28<00:00,  9.10it/s]\n",
      "100%|██████████| 4077/4077 [08:12<00:00,  8.28it/s]\n",
      "100%|██████████| 4077/4077 [08:55<00:00,  7.61it/s]\n"
     ]
    }
   ],
   "source": [
    "from convert_corpus_to_brat import make_text, create_verb_example_index\n",
    "\n",
    "result_pts = []\n",
    "\n",
    "for data_pt in data_pts:\n",
    "    texts = [make_text(example, 0)[0] for (ex_id, example) in data_pt]\n",
    "    result_pt = ppl(texts)\n",
    "    result_pts.append(result_pt)"
   ]
  },
  {
   "cell_type": "code",
   "execution_count": 7,
   "metadata": {},
   "outputs": [],
   "source": [
    "with open('data/results-1.pckl', 'wb') as f:\n",
    "    pickle.dump(result_pts, f)"
   ]
  },
  {
   "cell_type": "code",
   "execution_count": 18,
   "metadata": {},
   "outputs": [],
   "source": [
    "final_res = []\n",
    "for res in result_pts:\n",
    "    final_res += res\n",
    "\n",
    "final_res_with_ex_id = [(data[i][0], e) for (i, e) in enumerate(final_res)]\n",
    "\n",
    "with open('data/results_final.pckl', 'wb') as f:\n",
    "    pickle.dump(final_res_with_ex_id, f)"
   ]
  },
  {
   "cell_type": "markdown",
   "metadata": {},
   "source": [
    "# Fix issues with morph and postag"
   ]
  },
  {
   "cell_type": "code",
   "execution_count": 19,
   "metadata": {},
   "outputs": [],
   "source": [
    "with open('data/results_final.pckl', 'rb') as f:\n",
    "    ling_annots_to_fix = pickle.load(f)"
   ]
  },
  {
   "cell_type": "code",
   "execution_count": 20,
   "metadata": {},
   "outputs": [],
   "source": [
    "for ex_id, ling_annot in ling_annots_to_fix:\n",
    "    ling_annot['morph'] = []\n",
    "    for i in range(len(ling_annot['lemma'])):\n",
    "        sent = ling_annot['postag'][i]\n",
    "        ling_annot['morph'].append([])\n",
    "        for j in range(len(sent)):\n",
    "            ling_annot['morph'][i].append(ling_annot['postag'][i][j])\n",
    "            ling_annot['postag'][i][j] = ling_annot['morph'][i][j].get('fPOS', '')"
   ]
  },
  {
   "cell_type": "code",
   "execution_count": 23,
   "metadata": {},
   "outputs": [],
   "source": [
    "with open('data/results_final_fixed.pckl', 'wb') as f:\n",
    "    pickle.dump(ling_annots_to_fix, f)"
   ]
  }
 ],
 "metadata": {
  "kernelspec": {
   "display_name": "Python 3",
   "language": "python",
   "name": "python3"
  },
  "language_info": {
   "codemirror_mode": {
    "name": "ipython",
    "version": 3
   },
   "file_extension": ".py",
   "mimetype": "text/x-python",
   "name": "python",
   "nbconvert_exporter": "python",
   "pygments_lexer": "ipython3",
   "version": "3.6.4"
  },
  "toc": {
   "colors": {
    "hover_highlight": "#DAA520",
    "running_highlight": "#FF0000",
    "selected_highlight": "#FFD700"
   },
   "moveMenuLeft": true,
   "nav_menu": {
    "height": "12px",
    "width": "253px"
   },
   "navigate_menu": true,
   "number_sections": true,
   "sideBar": true,
   "threshold": 4,
   "toc_cell": false,
   "toc_section_display": "block",
   "toc_window_display": false
  }
 },
 "nbformat": 4,
 "nbformat_minor": 2
}
