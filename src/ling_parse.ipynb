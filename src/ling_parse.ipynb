{
 "cells": [
  {
   "cell_type": "code",
   "execution_count": 1,
   "metadata": {},
   "outputs": [],
   "source": [
    "%load_ext autoreload\n",
    "%autoreload 2\n",
    "\n",
    "import os\n",
    "os.environ['CUDA_VISIBLE_DEVICES'] = ''\n",
    "\n",
    "\n",
    "import sys\n",
    "\n",
<<<<<<< HEAD
    "#sys.path.append('/notebook/framebank_parser/roleinduction/ri_tools/src/liash')\n",
    "sys.path.append('../libs/pylingtools/')\n",
    "sys.path.append('../libs/framebank_preprocessing/')\n",
    "sys.path.append('../libs/')"
=======
    "sys.path.append('/notebook/framebank_parser/roleinduction/ri_tools/src/liash')\n",
    "sys.path.append('/notebook/framebank_parser/roleinduction/pylingtools/src/')\n",
    "sys.path.append('./isanlp/src/')"
>>>>>>> db9ba48a8ea63cb54f695a9c6fd622c0e217fa36
   ]
  },
  {
   "cell_type": "code",
<<<<<<< HEAD
   "execution_count": 2,
=======
   "execution_count": 5,
>>>>>>> db9ba48a8ea63cb54f695a9c6fd622c0e217fa36
   "metadata": {},
   "outputs": [],
   "source": [
    "import os\n",
    "import time\n",
    "import pickle\n",
    "import isanlp\n",
    "import json"
   ]
  },
  {
   "cell_type": "code",
<<<<<<< HEAD
   "execution_count": 3,
   "metadata": {},
   "outputs": [],
   "source": [
    "from tqdm import tqdm_notebook as tqdm"
   ]
  },
  {
   "cell_type": "code",
   "execution_count": 4,
   "metadata": {},
   "outputs": [],
   "source": [
    "from pprint import pprint as pretty_"
   ]
  },
  {
   "cell_type": "code",
   "execution_count": 5,
=======
   "execution_count": 6,
>>>>>>> db9ba48a8ea63cb54f695a9c6fd622c0e217fa36
   "metadata": {},
   "outputs": [],
   "source": [
    "from isanlp.processor_remote import ProcessorRemote\n",
    "from isanlp.ru.converter_mystem_to_ud import ConverterMystemToUd\n",
    "from isanlp import PipelineCommon\n",
    "from isanlp.ru.processor_mystem import ProcessorMystem\n",
    "from isanlp.ru.processor_tokenizer_ru import ProcessorTokenizerRu\n",
    "from isanlp.processor_sentence_splitter import ProcessorSentenceSplitter\n",
    "from isanlp.processor_syntaxnet_remote import ProcessorSyntaxNetRemote\n",
    "from isanlp import PipelineCommon"
   ]
  },
  {
   "cell_type": "markdown",
   "metadata": {},
   "source": [
    "# Parse framebank"
   ]
  },
  {
   "cell_type": "code",
<<<<<<< HEAD
   "execution_count": 6,
=======
   "execution_count": 3,
>>>>>>> db9ba48a8ea63cb54f695a9c6fd622c0e217fa36
   "metadata": {},
   "outputs": [
    {
     "name": "stderr",
     "output_type": "stream",
     "text": [
<<<<<<< HEAD
      "\r",
      "  0%|          | 0/1 [00:00<?, ?it/s]"
     ]
    },
    {
     "ename": "MaybeEncodingError",
     "evalue": "Error sending result: '<multiprocessing.pool.ExceptionWithTraceback object at 0x7fc1619b6390>'. Reason: 'TypeError(\"can't pickle _thread.RLock objects\",)'",
     "output_type": "error",
     "traceback": [
      "\u001b[0;31m\u001b[0m",
      "\u001b[0;31mMaybeEncodingError\u001b[0mTraceback (most recent call last)",
      "\u001b[0;32m<ipython-input-6-bcd2301ee387>\u001b[0m in \u001b[0;36m<module>\u001b[0;34m()\u001b[0m\n\u001b[1;32m     32\u001b[0m \u001b[0;34m\u001b[0m\u001b[0m\n\u001b[1;32m     33\u001b[0m doc_analyze = ppl([\n\u001b[0;32m---> 34\u001b[0;31m     'Процесс овладения осуществляется в ходе развития реальных отношений субъекта к миру.'])\n\u001b[0m\u001b[1;32m     35\u001b[0m \u001b[0mpretty_\u001b[0m\u001b[0;34m(\u001b[0m\u001b[0mdoc_analyze\u001b[0m\u001b[0;34m)\u001b[0m\u001b[0;34m\u001b[0m\u001b[0m\n",
      "\u001b[0;32m~/.pyenv/versions/3.6.4/lib/python3.6/site-packages/isanlp/wrapper_multi_process_document.py\u001b[0m in \u001b[0;36m__call__\u001b[0;34m(self, lst)\u001b[0m\n\u001b[1;32m     85\u001b[0m                 \u001b[0mresults\u001b[0m \u001b[0;34m=\u001b[0m \u001b[0mself\u001b[0m\u001b[0;34m.\u001b[0m\u001b[0m_progress_bar\u001b[0m\u001b[0;34m(\u001b[0m\u001b[0mself\u001b[0m\u001b[0;34m.\u001b[0m\u001b[0m_even_parallelization\u001b[0m\u001b[0;34m(\u001b[0m\u001b[0mlst\u001b[0m\u001b[0;34m)\u001b[0m\u001b[0;34m,\u001b[0m \u001b[0mtotal\u001b[0m\u001b[0;34m=\u001b[0m\u001b[0mlen\u001b[0m\u001b[0;34m(\u001b[0m\u001b[0mlst\u001b[0m\u001b[0;34m)\u001b[0m\u001b[0;34m)\u001b[0m\u001b[0;34m\u001b[0m\u001b[0m\n\u001b[1;32m     86\u001b[0m \u001b[0;34m\u001b[0m\u001b[0m\n\u001b[0;32m---> 87\u001b[0;31m             \u001b[0;32mfor\u001b[0m \u001b[0mi\u001b[0m\u001b[0;34m,\u001b[0m \u001b[0mres\u001b[0m \u001b[0;32min\u001b[0m \u001b[0mresults\u001b[0m\u001b[0;34m:\u001b[0m\u001b[0;34m\u001b[0m\u001b[0m\n\u001b[0m\u001b[1;32m     88\u001b[0m                 \u001b[0mfinal_res\u001b[0m\u001b[0;34m[\u001b[0m\u001b[0mi\u001b[0m\u001b[0;34m]\u001b[0m \u001b[0;34m=\u001b[0m \u001b[0mres\u001b[0m\u001b[0;34m\u001b[0m\u001b[0m\n\u001b[1;32m     89\u001b[0m \u001b[0;34m\u001b[0m\u001b[0m\n",
      "\u001b[0;32m~/.pyenv/versions/3.6.4/lib/python3.6/site-packages/tqdm/_tqdm.py\u001b[0m in \u001b[0;36m__iter__\u001b[0;34m(self)\u001b[0m\n\u001b[1;32m    928\u001b[0m \"\"\", fp_write=getattr(self.fp, 'write', sys.stderr.write))\n\u001b[1;32m    929\u001b[0m \u001b[0;34m\u001b[0m\u001b[0m\n\u001b[0;32m--> 930\u001b[0;31m             \u001b[0;32mfor\u001b[0m \u001b[0mobj\u001b[0m \u001b[0;32min\u001b[0m \u001b[0miterable\u001b[0m\u001b[0;34m:\u001b[0m\u001b[0;34m\u001b[0m\u001b[0m\n\u001b[0m\u001b[1;32m    931\u001b[0m                 \u001b[0;32myield\u001b[0m \u001b[0mobj\u001b[0m\u001b[0;34m\u001b[0m\u001b[0m\n\u001b[1;32m    932\u001b[0m                 \u001b[0;31m# Update and possibly print the progressbar.\u001b[0m\u001b[0;34m\u001b[0m\u001b[0;34m\u001b[0m\u001b[0m\n",
      "\u001b[0;32m~/.pyenv/versions/3.6.4/lib/python3.6/multiprocessing/pool.py\u001b[0m in \u001b[0;36m<genexpr>\u001b[0;34m(.0)\u001b[0m\n\u001b[1;32m    345\u001b[0m                     \u001b[0mresult\u001b[0m\u001b[0;34m.\u001b[0m\u001b[0m_set_length\u001b[0m\u001b[0;34m\u001b[0m\u001b[0m\n\u001b[1;32m    346\u001b[0m                 ))\n\u001b[0;32m--> 347\u001b[0;31m             \u001b[0;32mreturn\u001b[0m \u001b[0;34m(\u001b[0m\u001b[0mitem\u001b[0m \u001b[0;32mfor\u001b[0m \u001b[0mchunk\u001b[0m \u001b[0;32min\u001b[0m \u001b[0mresult\u001b[0m \u001b[0;32mfor\u001b[0m \u001b[0mitem\u001b[0m \u001b[0;32min\u001b[0m \u001b[0mchunk\u001b[0m\u001b[0;34m)\u001b[0m\u001b[0;34m\u001b[0m\u001b[0m\n\u001b[0m\u001b[1;32m    348\u001b[0m \u001b[0;34m\u001b[0m\u001b[0m\n\u001b[1;32m    349\u001b[0m     def apply_async(self, func, args=(), kwds={}, callback=None,\n",
      "\u001b[0;32m~/.pyenv/versions/3.6.4/lib/python3.6/multiprocessing/pool.py\u001b[0m in \u001b[0;36mnext\u001b[0;34m(self, timeout)\u001b[0m\n\u001b[1;32m    733\u001b[0m         \u001b[0;32mif\u001b[0m \u001b[0msuccess\u001b[0m\u001b[0;34m:\u001b[0m\u001b[0;34m\u001b[0m\u001b[0m\n\u001b[1;32m    734\u001b[0m             \u001b[0;32mreturn\u001b[0m \u001b[0mvalue\u001b[0m\u001b[0;34m\u001b[0m\u001b[0m\n\u001b[0;32m--> 735\u001b[0;31m         \u001b[0;32mraise\u001b[0m \u001b[0mvalue\u001b[0m\u001b[0;34m\u001b[0m\u001b[0m\n\u001b[0m\u001b[1;32m    736\u001b[0m \u001b[0;34m\u001b[0m\u001b[0m\n\u001b[1;32m    737\u001b[0m     \u001b[0m__next__\u001b[0m \u001b[0;34m=\u001b[0m \u001b[0mnext\u001b[0m                    \u001b[0;31m# XXX\u001b[0m\u001b[0;34m\u001b[0m\u001b[0m\n",
      "\u001b[0;31mMaybeEncodingError\u001b[0m: Error sending result: '<multiprocessing.pool.ExceptionWithTraceback object at 0x7fc1619b6390>'. Reason: 'TypeError(\"can't pickle _thread.RLock objects\",)'"
     ]
=======
      "100%|██████████| 2/2 [00:01<00:00,  1.17it/s]\n"
     ]
    },
    {
     "data": {
      "text/plain": [
       "[{'lemma': [['мама', 'мыть', 'рама', '.']],\n",
       "  'mystem_postags': [['S,жен,од=им,ед',\n",
       "    'V,несов,пе=прош,ед,изъяв,жен',\n",
       "    'S,жен,неод=вин,ед',\n",
       "    '']],\n",
       "  'postag': [[{'Animacy': 'Anim',\n",
       "     'Case': 'Nom',\n",
       "     'Gender': 'Fem',\n",
       "     'Number': 'Sing',\n",
       "     'fPOS': 'NOUN'},\n",
       "    {'Aspect': 'Imp',\n",
       "     'Gender': 'Fem',\n",
       "     'Number': 'Sing',\n",
       "     'Tense': 'Past',\n",
       "     'Valency': 'TR',\n",
       "     'VerbForm': 'Fin',\n",
       "     'fPOS': 'VERB'},\n",
       "    {'Animacy': 'Inan',\n",
       "     'Case': 'Acc',\n",
       "     'Gender': 'Fem',\n",
       "     'Number': 'Sing',\n",
       "     'fPOS': 'NOUN'},\n",
       "    {}]],\n",
       "  'sentences': [<isanlp.annotation.Sentence at 0x7f0e1d9999e8>],\n",
       "  'syntax_dep_tree': [[<isanlp.annotation.WordSynt at 0x7f0e1d999d30>,\n",
       "    <isanlp.annotation.WordSynt at 0x7f0e1d999dd8>,\n",
       "    <isanlp.annotation.WordSynt at 0x7f0e1d999e48>,\n",
       "    <isanlp.annotation.WordSynt at 0x7f0e1d999eb8>]],\n",
       "  'text': 'Мама мыла раму.',\n",
       "  'tokens': [<isanlp.annotation.Token at 0x7f0e1d999ba8>,\n",
       "   <isanlp.annotation.Token at 0x7f0e1d999ac8>,\n",
       "   <isanlp.annotation.Token at 0x7f0e1d999be0>,\n",
       "   <isanlp.annotation.Token at 0x7f0e1d999c18>]},\n",
       " {'lemma': [['папа', 'чинить', 'машина', '.']],\n",
       "  'mystem_postags': [['S,муж,од=им,ед',\n",
       "    'V,несов,пе=прош,ед,изъяв,муж',\n",
       "    'S,жен,неод=вин,ед',\n",
       "    '']],\n",
       "  'postag': [[{'Animacy': 'Anim',\n",
       "     'Case': 'Nom',\n",
       "     'Gender': 'Masc',\n",
       "     'Number': 'Sing',\n",
       "     'fPOS': 'NOUN'},\n",
       "    {'Aspect': 'Imp',\n",
       "     'Gender': 'Masc',\n",
       "     'Number': 'Sing',\n",
       "     'Tense': 'Past',\n",
       "     'Valency': 'TR',\n",
       "     'VerbForm': 'Fin',\n",
       "     'fPOS': 'VERB'},\n",
       "    {'Animacy': 'Inan',\n",
       "     'Case': 'Acc',\n",
       "     'Gender': 'Fem',\n",
       "     'Number': 'Sing',\n",
       "     'fPOS': 'NOUN'},\n",
       "    {}]],\n",
       "  'sentences': [<isanlp.annotation.Sentence at 0x7f0e1d9a2470>],\n",
       "  'syntax_dep_tree': [[<isanlp.annotation.WordSynt at 0x7f0e1d9a2630>,\n",
       "    <isanlp.annotation.WordSynt at 0x7f0e1d9a26a0>,\n",
       "    <isanlp.annotation.WordSynt at 0x7f0e1d9a2710>,\n",
       "    <isanlp.annotation.WordSynt at 0x7f0e1d9a2780>]],\n",
       "  'text': 'Папа чинил машину.',\n",
       "  'tokens': [<isanlp.annotation.Token at 0x7f0e1d9a24a8>,\n",
       "   <isanlp.annotation.Token at 0x7f0e1d9a24e0>,\n",
       "   <isanlp.annotation.Token at 0x7f0e1d9a2518>,\n",
       "   <isanlp.annotation.Token at 0x7f0e1d9a2550>]}]"
      ]
     },
     "execution_count": 3,
     "metadata": {},
     "output_type": "execute_result"
>>>>>>> db9ba48a8ea63cb54f695a9c6fd622c0e217fa36
    }
   ],
   "source": [
    "from isanlp.wrapper_multi_process_document import WrapperMultiProcessDocument\n",
    "\n",
    "\n",
<<<<<<< HEAD
    "ppl = WrapperMultiProcessDocument([\n",
    "    PipelineCommon([\n",
    "        (\n",
    "            ProcessorRemote('vmh2.isa.ru', 4466, 'default'),\n",
    "            ['text'],\n",
    "            {\n",
    "                'sentences' : 'sentences', \n",
    "                 'tokens' : 'tokens',\n",
    "                 'postag' : 'mystem_postags',\n",
    "                 'lemma' : 'lemma'\n",
    "            }\n",
    "        ),\n",
    "        (\n",
    "            ProcessorRemote('exn40.isa.ru', 3334, 'default'), \n",
    "            ['tokens', 'sentences'], \n",
    "            {\n",
    "                'syntax_dep_tree' : 'syntax_dep_tree'\n",
    "            }\n",
    "        ),\n",
    "        (\n",
    "            ConverterMystemToUd(),\n",
    "            ['mystem_postags'],\n",
    "            {\n",
    "                'morph' : 'postag',\n",
    "            }\n",
    "        )\n",
    "    ])\n",
    "])\n",
    "\n",
    "doc_analyze = ppl([\n",
    "    'Процесс овладения осуществляется в ходе развития реальных отношений субъекта к миру.'])\n",
    "pretty_(doc_analyze)"
   ]
  },
  {
   "cell_type": "code",
   "execution_count": null,
   "metadata": {},
   "outputs": [],
   "source": [
    "from isanlp.wrapper_multi_process_document import WrapperMultiProcessDocument\n",
    "ppl = WrapperMultiProcessDocument(\n",
    "    [\n",
    "        PipelineCommon([\n",
    "            (ProcessorRemote('vmh2.isa.ru', 4466, 'default'), \n",
=======
    "ppl = WrapperMultiProcessDocument(\n",
    "    [\n",
    "        PipelineCommon([(ProcessorRemote('192.168.0.104', 3333, 'default'), \n",
>>>>>>> db9ba48a8ea63cb54f695a9c6fd622c0e217fa36
    "                         ['text'], \n",
    "                         {'sentences' : 'sentences', \n",
    "                          'tokens' : 'tokens',\n",
    "                          'postag' : 'mystem_postags',\n",
<<<<<<< HEAD
    "                          'lemma' : 'lemma'}\n",
    "            ),\n",
    "            (ProcessorSyntaxNetRemote(addr, port), \n",
    "                         ['tokens', 'sentences'], \n",
    "                         {'syntax_dep_tree' : 'syntax_dep_tree'}\n",
    "            ),\n",
    "            (ConverterMystemToUd(), \n",
    "                         ['mystem_postags'], \n",
    "                         {'morph' : 'postag'}\n",
    "            )\n",
    "        ]) for addr, port in [\n",
    "            ('exn40.isa.ru', 8200),\n",
    "            #('exn40.isa.ru', 8300),\n",
    "            #('exn40.isa.ru', 8400),\n",
    "            #('exn40.isa.ru', 8500),\n",
    "            #('exn40.isa.ru', 8600),\n",
    "            #('exn40.isa.ru', 8100)\n",
    "        ]\n",
    "    ], progress_bar=tqdm\n",
    ")\n",
    "doc_analyze = ppl([\n",
    "    'Процесс овладения осуществляется в ходе развития реальных отношений субъекта к миру.' + \n",
    "    'Отношения же эти зависят не от субъекта, не от его сознания;' + \n",
    "    ' а определяются конкретно-историческими, социальными условиями, в которых он живёт,' +\n",
    "    ' и тем, как складывается в этих условиях его жизнь. '])\n",
    "pretty_(doc_analyze)"
=======
    "                          'lemma' : 'lemma'}),\n",
    "                        (ProcessorSyntaxNetRemote(addr, port), \n",
    "                         ['tokens', 'sentences'], \n",
    "                         {'syntax_dep_tree' : 'syntax_dep_tree'}),\n",
    "                        (ConverterMystemToUd(), \n",
    "                         ['mystem_postags'], \n",
    "                         {0 : 'postag'})])\n",
    "        for addr, port in [('exn40.isa.ru', 8200), \n",
    "                           ('exn40.isa.ru', 8201),\n",
    "                           ('exn40.isa.ru', 8202),\n",
    "                           ('exn40.isa.ru', 8203),\n",
    "                           ('exn40.isa.ru', 8204),\n",
    "                           ('exn40.isa.ru', 8205),\n",
    "                           ('exn40.isa.ru', 8206),\n",
    "                           ('exn40.isa.ru', 8207),\n",
    "                           ('exn40.isa.ru', 8208),\n",
    "                           ('exn40.isa.ru', 8209),\n",
    "                           \n",
    "                           #('exn40.isa.ru', 8113),\n",
    "                           ('vmh1.isa.ru', 8200),\n",
    "                           ('vmh1.isa.ru', 8201),\n",
    "                           ('vmh1.isa.ru', 8202),\n",
    "                           ('vmh1.isa.ru', 8203),\n",
    "                           ('vmh1.isa.ru', 8204),\n",
    "                           \n",
    "                           ('vmh2.isa.ru', 8200),\n",
    "                           ('vmh2.isa.ru', 8201),\n",
    "                           ('vmh2.isa.ru', 8202),\n",
    "                           ('vmh2.isa.ru', 8203),\n",
    "                           ('vmh2.isa.ru', 8204),\n",
    "                           ('vmh2.isa.ru', 8205),\n",
    "                           ('vmh2.isa.ru', 8206),\n",
    "                           ('vmh2.isa.ru', 8207),\n",
    "                           ('vmh2.isa.ru', 8208),\n",
    "                           \n",
    "                           ('192.168.0.104', 8200),\n",
    "                           ('192.168.0.104', 8201)]\n",
    "    ]\n",
    ")\n",
    "\n",
    "ppl(['Мама мыла раму.', 'Папа чинил машину.'])    "
>>>>>>> db9ba48a8ea63cb54f695a9c6fd622c0e217fa36
   ]
  },
  {
   "cell_type": "code",
<<<<<<< HEAD
   "execution_count": 7,
=======
   "execution_count": 4,
>>>>>>> db9ba48a8ea63cb54f695a9c6fd622c0e217fa36
   "metadata": {},
   "outputs": [
    {
     "name": "stdout",
     "output_type": "stream",
     "text": [
      "Number of examples:  32612\n"
     ]
    }
   ],
   "source": [
<<<<<<< HEAD
    "input_data_path = '../data/cleared_corpus.json'\n",
=======
    "input_data_path = 'data/cleared_corpus.json'\n",
>>>>>>> db9ba48a8ea63cb54f695a9c6fd622c0e217fa36
    "\n",
    "with open(input_data_path, 'r') as f:\n",
    "    data = json.load(f)\n",
    "    \n",
    "print('Number of examples: ', len(data))"
   ]
  },
  {
   "cell_type": "code",
<<<<<<< HEAD
   "execution_count": 17,
=======
   "execution_count": 5,
>>>>>>> db9ba48a8ea63cb54f695a9c6fd622c0e217fa36
   "metadata": {},
   "outputs": [],
   "source": [
    "from isanlp.wrapper_multi_process_document import split_equally\n",
<<<<<<< HEAD
    "data_pts = split_equally(data, 5)"
=======
    "data_pts = split_equally(data, 8)"
>>>>>>> db9ba48a8ea63cb54f695a9c6fd622c0e217fa36
   ]
  },
  {
   "cell_type": "code",
<<<<<<< HEAD
   "execution_count": null,
=======
   "execution_count": 6,
>>>>>>> db9ba48a8ea63cb54f695a9c6fd622c0e217fa36
   "metadata": {},
   "outputs": [
    {
     "name": "stderr",
     "output_type": "stream",
     "text": [
<<<<<<< HEAD
      "100%|██████████| 6522/6522 [16:27<00:00,  6.61it/s]\n",
      "100%|██████████| 6522/6522 [15:26<00:00,  7.04it/s]\n",
      "100%|██████████| 6522/6522 [16:12<00:00,  6.70it/s]\n",
      " 97%|█████████▋| 6341/6523 [15:11<00:26,  6.96it/s]"
=======
      "100%|██████████| 4076/4076 [03:54<00:00, 17.36it/s]\n",
      "100%|██████████| 4076/4076 [04:39<00:00, 14.58it/s]\n",
      "100%|██████████| 4076/4076 [05:14<00:00, 12.97it/s]\n",
      "100%|██████████| 4076/4076 [05:56<00:00, 11.43it/s]\n",
      "100%|██████████| 4077/4077 [06:37<00:00, 10.26it/s]\n",
      "100%|██████████| 4077/4077 [07:28<00:00,  9.10it/s]\n",
      "100%|██████████| 4077/4077 [08:12<00:00,  8.28it/s]\n",
      "100%|██████████| 4077/4077 [08:55<00:00,  7.61it/s]\n"
>>>>>>> db9ba48a8ea63cb54f695a9c6fd622c0e217fa36
     ]
    }
   ],
   "source": [
    "from convert_corpus_to_brat import make_text, create_verb_example_index\n",
    "\n",
    "result_pts = []\n",
    "\n",
    "for data_pt in data_pts:\n",
    "    texts = [make_text(example, 0)[0] for (ex_id, example) in data_pt]\n",
    "    result_pt = ppl(texts)\n",
    "    result_pts.append(result_pt)"
   ]
  },
  {
   "cell_type": "code",
<<<<<<< HEAD
   "execution_count": 21,
   "metadata": {},
   "outputs": [
    {
     "data": {
      "text/plain": [
       "32612"
      ]
     },
     "execution_count": 21,
     "metadata": {},
     "output_type": "execute_result"
    }
   ],
   "source": [
    "sum(len(res) for res in result_pts)"
   ]
  },
  {
   "cell_type": "code",
   "execution_count": 22,
   "metadata": {},
   "outputs": [],
   "source": [
    "with open('../data/results-1-test.pckl', 'wb') as f:\n",
=======
   "execution_count": 7,
   "metadata": {},
   "outputs": [],
   "source": [
    "with open('data/results-1.pckl', 'wb') as f:\n",
>>>>>>> db9ba48a8ea63cb54f695a9c6fd622c0e217fa36
    "    pickle.dump(result_pts, f)"
   ]
  },
  {
   "cell_type": "code",
<<<<<<< HEAD
   "execution_count": 12,
   "metadata": {},
   "outputs": [
    {
     "name": "stdout",
     "output_type": "stream",
     "text": [
      "{'lemma': [['процесс',\n",
      "            'овладение',\n",
      "            'осуществляться',\n",
      "            'в',\n",
      "            'ход',\n",
      "            'развитие',\n",
      "            'реальный',\n",
      "            'отношение',\n",
      "            'субъект',\n",
      "            'к',\n",
      "            'мир',\n",
      "            '.'],\n",
      "           ['отношение',\n",
      "            'же',\n",
      "            'этот',\n",
      "            'зависеть',\n",
      "            'не',\n",
      "            'от',\n",
      "            'субъект',\n",
      "            ',',\n",
      "            'не',\n",
      "            'от',\n",
      "            'его',\n",
      "            'сознание',\n",
      "            ';',\n",
      "            'а',\n",
      "            'определяться',\n",
      "            'конкретно',\n",
      "            '-',\n",
      "            'исторический',\n",
      "            ',',\n",
      "            'социальный',\n",
      "            'условие',\n",
      "            ',',\n",
      "            'в',\n",
      "            'который',\n",
      "            'он',\n",
      "            'жить',\n",
      "            ',',\n",
      "            'и',\n",
      "            'то',\n",
      "            ',',\n",
      "            'как',\n",
      "            'складываться',\n",
      "            'в',\n",
      "            'этот',\n",
      "            'условие',\n",
      "            'его',\n",
      "            'жизнь',\n",
      "            '.']],\n",
      " 'mystem_postags': [['S,муж,неод=(вин,ед|им,ед)',\n",
      "                     'S,сред,неод=(вин,мн|род,ед|им,мн)',\n",
      "                     'V,нп=непрош,ед,изъяв,3-л,несов',\n",
      "                     'PR=',\n",
      "                     'S,муж,неод=пр,ед',\n",
      "                     'S,сред,неод=(вин,мн|род,ед|им,мн)',\n",
      "                     'A=(пр,мн,полн|вин,мн,полн,од|род,мн,полн)',\n",
      "                     'S,сред,неод=род,мн',\n",
      "                     'S,муж,неод=род,ед',\n",
      "                     'PR=',\n",
      "                     'S,муж,неод=дат,ед',\n",
      "                     ''],\n",
      "                    ['S,сред,неод=(вин,мн|род,ед|им,мн)',\n",
      "                     'PART=',\n",
      "                     'APRO=(им,мн|вин,мн,неод)',\n",
      "                     'V,несов,нп=непрош,мн,изъяв,3-л',\n",
      "                     'PART=',\n",
      "                     'PR=',\n",
      "                     'S,муж,неод=род,ед',\n",
      "                     '',\n",
      "                     'PART=',\n",
      "                     'PR=',\n",
      "                     'APRO=(пр,мн|дат,мн|род,мн|твор,мн|им,мн|им,ед,жен|вин,ед,муж,од|род,ед,муж|род,ед,сред|вин,ед,сред|им,ед,сред|пр,ед,жен|дат,ед,жен|род,ед,жен|твор,ед,жен|пр,ед,муж|пр,ед,сред|дат,ед,муж|дат,ед,сред|вин,ед,жен|вин,мн,неод|вин,ед,муж,неод|им,ед,муж|твор,ед,муж|твор,ед,сред|вин,мн,од|пр,мн,сред|вин,мн,сред|дат,мн,сред|род,мн,сред|твор,мн,сред|им,мн,сред|пр,мн,муж|вин,мн,муж|вин,ед,муж|дат,мн,муж)',\n",
      "                     'S,сред,неод=(вин,мн|род,ед|им,мн)',\n",
      "                     '',\n",
      "                     'CONJ=',\n",
      "                     'V,нп=непрош,мн,изъяв,3-л,несов',\n",
      "                     'ADV=',\n",
      "                     '',\n",
      "                     'A=твор,мн,полн',\n",
      "                     '',\n",
      "                     'A=твор,мн,полн',\n",
      "                     'S,сред,неод=твор,мн',\n",
      "                     '',\n",
      "                     'PR=',\n",
      "                     'APRO=(пр,мн|род,мн|вин,мн,од)',\n",
      "                     'SPRO,ед,3-л,муж=им',\n",
      "                     'V,несов,нп=непрош,ед,изъяв,3-л',\n",
      "                     '',\n",
      "                     'CONJ=',\n",
      "                     'SPRO,ед,сред,неод=твор',\n",
      "                     '',\n",
      "                     'CONJ=',\n",
      "                     'V,нп=непрош,ед,изъяв,3-л,несов',\n",
      "                     'PR=',\n",
      "                     'APRO=(пр,мн|род,мн|вин,мн,од)',\n",
      "                     'S,сред,неод=пр,мн',\n",
      "                     'APRO=(пр,мн|дат,мн|род,мн|твор,мн|им,мн|им,ед,жен|вин,ед,муж,од|род,ед,муж|род,ед,сред|вин,ед,сред|им,ед,сред|пр,ед,жен|дат,ед,жен|род,ед,жен|твор,ед,жен|пр,ед,муж|пр,ед,сред|дат,ед,муж|дат,ед,сред|вин,ед,жен|вин,мн,неод|вин,ед,муж,неод|им,ед,муж|твор,ед,муж|твор,ед,сред|вин,мн,од|пр,мн,сред|вин,мн,сред|дат,мн,сред|род,мн,сред|твор,мн,сред|им,мн,сред|пр,мн,муж|вин,мн,муж|вин,ед,муж|дат,мн,муж)',\n",
      "                     'S,жен,неод=(вин,ед|им,ед)',\n",
      "                     '']],\n",
      " 'postag': [[{'Animacy': 'Inan',\n",
      "              'Case': 'Acc',\n",
      "              'Gender': 'Masc',\n",
      "              'Number': 'Sing',\n",
      "              'fPOS': 'NOUN'},\n",
      "             {'Animacy': 'Inan',\n",
      "              'Case': 'Acc',\n",
      "              'Gender': 'Neut',\n",
      "              'Number': 'Plur',\n",
      "              'fPOS': 'NOUN'},\n",
      "             {'Aspect': 'Imp',\n",
      "              'Number': 'Sing',\n",
      "              'Person': '3',\n",
      "              'Tense': 'Imp',\n",
      "              'Valency': 'INTR',\n",
      "              'VerbForm': 'Fin',\n",
      "              'fPOS': 'VERB'},\n",
      "             {'fPOS': 'ADP'},\n",
      "             {'Animacy': 'Inan',\n",
      "              'Case': 'Abl',\n",
      "              'Gender': 'Masc',\n",
      "              'Number': 'Sing',\n",
      "              'fPOS': 'NOUN'},\n",
      "             {'Animacy': 'Inan',\n",
      "              'Case': 'Acc',\n",
      "              'Gender': 'Neut',\n",
      "              'Number': 'Plur',\n",
      "              'fPOS': 'NOUN'},\n",
      "             {'Case': 'Abl', 'Degree': 'Pos', 'Number': 'Plur', 'fPOS': 'ADJ'},\n",
      "             {'Animacy': 'Inan',\n",
      "              'Case': 'Gen',\n",
      "              'Gender': 'Neut',\n",
      "              'Number': 'Plur',\n",
      "              'fPOS': 'NOUN'},\n",
      "             {'Animacy': 'Inan',\n",
      "              'Case': 'Gen',\n",
      "              'Gender': 'Masc',\n",
      "              'Number': 'Sing',\n",
      "              'fPOS': 'NOUN'},\n",
      "             {'fPOS': 'ADP'},\n",
      "             {'Animacy': 'Inan',\n",
      "              'Case': 'Dat',\n",
      "              'Gender': 'Masc',\n",
      "              'Number': 'Sing',\n",
      "              'fPOS': 'NOUN'},\n",
      "             {}],\n",
      "            [{'Animacy': 'Inan',\n",
      "              'Case': 'Acc',\n",
      "              'Gender': 'Neut',\n",
      "              'Number': 'Plur',\n",
      "              'fPOS': 'NOUN'},\n",
      "             {'fPOS': 'PART'},\n",
      "             {'Case': 'Nom', 'Number': 'Plur', 'fPOS': 'PRON'},\n",
      "             {'Aspect': 'Imp',\n",
      "              'Number': 'Plur',\n",
      "              'Person': '3',\n",
      "              'Tense': 'Imp',\n",
      "              'Valency': 'INTR',\n",
      "              'VerbForm': 'Fin',\n",
      "              'fPOS': 'VERB'},\n",
      "             {'fPOS': 'PART'},\n",
      "             {'fPOS': 'ADP'},\n",
      "             {'Animacy': 'Inan',\n",
      "              'Case': 'Gen',\n",
      "              'Gender': 'Masc',\n",
      "              'Number': 'Sing',\n",
      "              'fPOS': 'NOUN'},\n",
      "             {},\n",
      "             {'fPOS': 'PART'},\n",
      "             {'fPOS': 'ADP'},\n",
      "             {'Case': 'Abl', 'Number': 'Plur', 'fPOS': 'PRON'},\n",
      "             {'Animacy': 'Inan',\n",
      "              'Case': 'Acc',\n",
      "              'Gender': 'Neut',\n",
      "              'Number': 'Plur',\n",
      "              'fPOS': 'NOUN'},\n",
      "             {},\n",
      "             {'fPOS': 'CONJ'},\n",
      "             {'Aspect': 'Imp',\n",
      "              'Number': 'Plur',\n",
      "              'Person': '3',\n",
      "              'Tense': 'Imp',\n",
      "              'Valency': 'INTR',\n",
      "              'VerbForm': 'Fin',\n",
      "              'fPOS': 'VERB'},\n",
      "             {'fPOS': 'ADV'},\n",
      "             {},\n",
      "             {'Case': 'Ins', 'Degree': 'Pos', 'Number': 'Plur', 'fPOS': 'ADJ'},\n",
      "             {},\n",
      "             {'Case': 'Ins', 'Degree': 'Pos', 'Number': 'Plur', 'fPOS': 'ADJ'},\n",
      "             {'Animacy': 'Inan',\n",
      "              'Case': 'Ins',\n",
      "              'Gender': 'Neut',\n",
      "              'Number': 'Plur',\n",
      "              'fPOS': 'NOUN'},\n",
      "             {},\n",
      "             {'fPOS': 'ADP'},\n",
      "             {'Case': 'Abl', 'Number': 'Plur', 'fPOS': 'PRON'},\n",
      "             {'Case': 'Nom',\n",
      "              'Gender': 'Masc',\n",
      "              'Number': 'Sing',\n",
      "              'Person': '3',\n",
      "              'fPOS': 'PRON'},\n",
      "             {'Aspect': 'Imp',\n",
      "              'Number': 'Sing',\n",
      "              'Person': '3',\n",
      "              'Tense': 'Imp',\n",
      "              'Valency': 'INTR',\n",
      "              'VerbForm': 'Fin',\n",
      "              'fPOS': 'VERB'},\n",
      "             {},\n",
      "             {'fPOS': 'CONJ'},\n",
      "             {'Animacy': 'Inan',\n",
      "              'Case': 'Ins',\n",
      "              'Gender': 'Neut',\n",
      "              'Number': 'Sing',\n",
      "              'fPOS': 'PRON'},\n",
      "             {},\n",
      "             {'fPOS': 'CONJ'},\n",
      "             {'Aspect': 'Imp',\n",
      "              'Number': 'Sing',\n",
      "              'Person': '3',\n",
      "              'Tense': 'Imp',\n",
      "              'Valency': 'INTR',\n",
      "              'VerbForm': 'Fin',\n",
      "              'fPOS': 'VERB'},\n",
      "             {'fPOS': 'ADP'},\n",
      "             {'Case': 'Abl', 'Number': 'Plur', 'fPOS': 'PRON'},\n",
      "             {'Animacy': 'Inan',\n",
      "              'Case': 'Abl',\n",
      "              'Gender': 'Neut',\n",
      "              'Number': 'Plur',\n",
      "              'fPOS': 'NOUN'},\n",
      "             {'Case': 'Abl', 'Number': 'Plur', 'fPOS': 'PRON'},\n",
      "             {'Animacy': 'Inan',\n",
      "              'Case': 'Acc',\n",
      "              'Gender': 'Fem',\n",
      "              'Number': 'Sing',\n",
      "              'fPOS': 'NOUN'},\n",
      "             {}]],\n",
      " 'sentences': [<isanlp.annotation.Sentence object at 0x7fd82cd112b0>,\n",
      "               <isanlp.annotation.Sentence object at 0x7fd82cd11320>],\n",
      " 'syntax_dep_tree': [[<isanlp.annotation.WordSynt object at 0x7fd82cd1c208>,\n",
      "                      <isanlp.annotation.WordSynt object at 0x7fd82cd1c2b0>,\n",
      "                      <isanlp.annotation.WordSynt object at 0x7fd82cd1c320>,\n",
      "                      <isanlp.annotation.WordSynt object at 0x7fd82cd1c390>,\n",
      "                      <isanlp.annotation.WordSynt object at 0x7fd82cd1c400>,\n",
      "                      <isanlp.annotation.WordSynt object at 0x7fd82cd1c470>,\n",
      "                      <isanlp.annotation.WordSynt object at 0x7fd82cd1c4e0>,\n",
      "                      <isanlp.annotation.WordSynt object at 0x7fd82cd1c550>,\n",
      "                      <isanlp.annotation.WordSynt object at 0x7fd82cd1c5c0>,\n",
      "                      <isanlp.annotation.WordSynt object at 0x7fd82cd1c630>,\n",
      "                      <isanlp.annotation.WordSynt object at 0x7fd82cd1c6a0>,\n",
      "                      <isanlp.annotation.WordSynt object at 0x7fd82cd1c710>],\n",
      "                     [<isanlp.annotation.WordSynt object at 0x7fd82cd1c780>,\n",
      "                      <isanlp.annotation.WordSynt object at 0x7fd82cd1c7f0>,\n",
      "                      <isanlp.annotation.WordSynt object at 0x7fd82cd1c828>,\n",
      "                      <isanlp.annotation.WordSynt object at 0x7fd82cd1c898>,\n",
      "                      <isanlp.annotation.WordSynt object at 0x7fd82cd1c908>,\n",
      "                      <isanlp.annotation.WordSynt object at 0x7fd82cd1c978>,\n",
      "                      <isanlp.annotation.WordSynt object at 0x7fd82cd1c9e8>,\n",
      "                      <isanlp.annotation.WordSynt object at 0x7fd82cd1ca58>,\n",
      "                      <isanlp.annotation.WordSynt object at 0x7fd82cd1cac8>,\n",
      "                      <isanlp.annotation.WordSynt object at 0x7fd82cd1cb38>,\n",
      "                      <isanlp.annotation.WordSynt object at 0x7fd82cd1cba8>,\n",
      "                      <isanlp.annotation.WordSynt object at 0x7fd82cd1cc18>,\n",
      "                      <isanlp.annotation.WordSynt object at 0x7fd82cd1cc88>,\n",
      "                      <isanlp.annotation.WordSynt object at 0x7fd82cd1ccf8>,\n",
      "                      <isanlp.annotation.WordSynt object at 0x7fd82cd1cd68>,\n",
      "                      <isanlp.annotation.WordSynt object at 0x7fd82cd1cdd8>,\n",
      "                      <isanlp.annotation.WordSynt object at 0x7fd82cd1ce48>,\n",
      "                      <isanlp.annotation.WordSynt object at 0x7fd82cd1ce80>,\n",
      "                      <isanlp.annotation.WordSynt object at 0x7fd82cd1ceb8>,\n",
      "                      <isanlp.annotation.WordSynt object at 0x7fd82cd1cf28>,\n",
      "                      <isanlp.annotation.WordSynt object at 0x7fd82cd1cf98>,\n",
      "                      <isanlp.annotation.WordSynt object at 0x7fd82cd23048>,\n",
      "                      <isanlp.annotation.WordSynt object at 0x7fd82cd230b8>,\n",
      "                      <isanlp.annotation.WordSynt object at 0x7fd82cd23128>,\n",
      "                      <isanlp.annotation.WordSynt object at 0x7fd82cd23198>,\n",
      "                      <isanlp.annotation.WordSynt object at 0x7fd82cd23208>,\n",
      "                      <isanlp.annotation.WordSynt object at 0x7fd82cd23240>,\n",
      "                      <isanlp.annotation.WordSynt object at 0x7fd82cd232b0>,\n",
      "                      <isanlp.annotation.WordSynt object at 0x7fd82cd23320>,\n",
      "                      <isanlp.annotation.WordSynt object at 0x7fd82cd23390>,\n",
      "                      <isanlp.annotation.WordSynt object at 0x7fd82cd23400>,\n",
      "                      <isanlp.annotation.WordSynt object at 0x7fd82cd23470>,\n",
      "                      <isanlp.annotation.WordSynt object at 0x7fd82cd234e0>,\n",
      "                      <isanlp.annotation.WordSynt object at 0x7fd82cd23550>,\n",
      "                      <isanlp.annotation.WordSynt object at 0x7fd82cd235c0>,\n",
      "                      <isanlp.annotation.WordSynt object at 0x7fd82cd23630>,\n",
      "                      <isanlp.annotation.WordSynt object at 0x7fd82cd236a0>,\n",
      "                      <isanlp.annotation.WordSynt object at 0x7fd82cd23710>]],\n",
      " 'text': 'Процесс овладения осуществляется в ходе развития реальных отношений '\n",
      "         'субъекта к миру. Отношения же эти зависят не от субъекта, не от его '\n",
      "         'сознания; а определяются конкретно-историческими, социальными '\n",
      "         'условиями, в которых он живёт, и тем, как складывается в этих '\n",
      "         'условиях его жизнь. ',\n",
      " 'tokens': [<isanlp.annotation.Token object at 0x7fd82cd113c8>,\n",
      "            <isanlp.annotation.Token object at 0x7fd82cd11400>,\n",
      "            <isanlp.annotation.Token object at 0x7fd82cd11438>,\n",
      "            <isanlp.annotation.Token object at 0x7fd82cd11470>,\n",
      "            <isanlp.annotation.Token object at 0x7fd82cd114a8>,\n",
      "            <isanlp.annotation.Token object at 0x7fd82cd114e0>,\n",
      "            <isanlp.annotation.Token object at 0x7fd82cd11518>,\n",
      "            <isanlp.annotation.Token object at 0x7fd82cd11550>,\n",
      "            <isanlp.annotation.Token object at 0x7fd82cd11588>,\n",
      "            <isanlp.annotation.Token object at 0x7fd82cd115c0>,\n",
      "            <isanlp.annotation.Token object at 0x7fd82cd115f8>,\n",
      "            <isanlp.annotation.Token object at 0x7fd82cd11630>,\n",
      "            <isanlp.annotation.Token object at 0x7fd82cd11668>,\n",
      "            <isanlp.annotation.Token object at 0x7fd82cd116a0>,\n",
      "            <isanlp.annotation.Token object at 0x7fd82cd116d8>,\n",
      "            <isanlp.annotation.Token object at 0x7fd82cd11710>,\n",
      "            <isanlp.annotation.Token object at 0x7fd82cd11748>,\n",
      "            <isanlp.annotation.Token object at 0x7fd82cd11780>,\n",
      "            <isanlp.annotation.Token object at 0x7fd82cd117b8>,\n",
      "            <isanlp.annotation.Token object at 0x7fd82cd117f0>,\n",
      "            <isanlp.annotation.Token object at 0x7fd82cd11828>,\n",
      "            <isanlp.annotation.Token object at 0x7fd82cd11860>,\n",
      "            <isanlp.annotation.Token object at 0x7fd82cd11898>,\n",
      "            <isanlp.annotation.Token object at 0x7fd82cd118d0>,\n",
      "            <isanlp.annotation.Token object at 0x7fd82cd11908>,\n",
      "            <isanlp.annotation.Token object at 0x7fd82cd11940>,\n",
      "            <isanlp.annotation.Token object at 0x7fd82cd11978>,\n",
      "            <isanlp.annotation.Token object at 0x7fd82cd119b0>,\n",
      "            <isanlp.annotation.Token object at 0x7fd82cd119e8>,\n",
      "            <isanlp.annotation.Token object at 0x7fd82cd11a20>,\n",
      "            <isanlp.annotation.Token object at 0x7fd82cd11a58>,\n",
      "            <isanlp.annotation.Token object at 0x7fd82cd11a90>,\n",
      "            <isanlp.annotation.Token object at 0x7fd82cd11ac8>,\n",
      "            <isanlp.annotation.Token object at 0x7fd82cd11b00>,\n",
      "            <isanlp.annotation.Token object at 0x7fd82cd11b38>,\n",
      "            <isanlp.annotation.Token object at 0x7fd82cd11b70>,\n",
      "            <isanlp.annotation.Token object at 0x7fd82cd11ba8>,\n",
      "            <isanlp.annotation.Token object at 0x7fd82cd11be0>,\n",
      "            <isanlp.annotation.Token object at 0x7fd82cd11c18>,\n",
      "            <isanlp.annotation.Token object at 0x7fd82cd11c50>,\n",
      "            <isanlp.annotation.Token object at 0x7fd82cd11c88>,\n",
      "            <isanlp.annotation.Token object at 0x7fd82cd11cc0>,\n",
      "            <isanlp.annotation.Token object at 0x7fd82cd11cf8>,\n",
      "            <isanlp.annotation.Token object at 0x7fd82cd11d30>,\n",
      "            <isanlp.annotation.Token object at 0x7fd82cd11d68>,\n",
      "            <isanlp.annotation.Token object at 0x7fd82cd11da0>,\n",
      "            <isanlp.annotation.Token object at 0x7fd82cd11dd8>,\n",
      "            <isanlp.annotation.Token object at 0x7fd82cd11e10>,\n",
      "            <isanlp.annotation.Token object at 0x7fd82cd11e48>,\n",
      "            <isanlp.annotation.Token object at 0x7fd82cd11e80>]}\n"
     ]
    }
   ],
   "source": [
    "len(result_pts[0][0])\n",
    "pretty_(result_pts[0][0])"
   ]
  },
  {
   "cell_type": "code",
   "execution_count": 23,
=======
   "execution_count": 18,
>>>>>>> db9ba48a8ea63cb54f695a9c6fd622c0e217fa36
   "metadata": {},
   "outputs": [],
   "source": [
    "final_res = []\n",
    "for res in result_pts:\n",
    "    final_res += res\n",
    "\n",
    "final_res_with_ex_id = [(data[i][0], e) for (i, e) in enumerate(final_res)]\n",
    "\n",
<<<<<<< HEAD
    "with open('../data/results_final-test.pckl', 'wb') as f:\n",
=======
    "with open('data/results_final.pckl', 'wb') as f:\n",
>>>>>>> db9ba48a8ea63cb54f695a9c6fd622c0e217fa36
    "    pickle.dump(final_res_with_ex_id, f)"
   ]
  },
  {
   "cell_type": "markdown",
   "metadata": {},
   "source": [
    "# Fix issues with morph and postag"
   ]
  },
  {
   "cell_type": "code",
<<<<<<< HEAD
   "execution_count": 26,
   "metadata": {},
   "outputs": [],
   "source": [
    "with open('../data/results_final-test.pckl', 'rb') as f:\n",
=======
   "execution_count": 19,
   "metadata": {},
   "outputs": [],
   "source": [
    "with open('data/results_final.pckl', 'rb') as f:\n",
>>>>>>> db9ba48a8ea63cb54f695a9c6fd622c0e217fa36
    "    ling_annots_to_fix = pickle.load(f)"
   ]
  },
  {
   "cell_type": "code",
<<<<<<< HEAD
   "execution_count": 27,
=======
   "execution_count": 20,
>>>>>>> db9ba48a8ea63cb54f695a9c6fd622c0e217fa36
   "metadata": {},
   "outputs": [],
   "source": [
    "for ex_id, ling_annot in ling_annots_to_fix:\n",
    "    ling_annot['morph'] = []\n",
    "    for i in range(len(ling_annot['lemma'])):\n",
    "        sent = ling_annot['postag'][i]\n",
    "        ling_annot['morph'].append([])\n",
    "        for j in range(len(sent)):\n",
    "            ling_annot['morph'][i].append(ling_annot['postag'][i][j])\n",
    "            ling_annot['postag'][i][j] = ling_annot['morph'][i][j].get('fPOS', '')"
   ]
  },
  {
   "cell_type": "code",
<<<<<<< HEAD
   "execution_count": 28,
   "metadata": {},
   "outputs": [],
   "source": [
    "with open('../data/results_final_fixed.pckl', 'wb') as f:\n",
    "    pickle.dump(ling_annots_to_fix, f)"
   ]
  },
  {
   "cell_type": "code",
   "execution_count": null,
   "metadata": {},
   "outputs": [],
   "source": []
=======
   "execution_count": 23,
   "metadata": {},
   "outputs": [],
   "source": [
    "with open('data/results_final_fixed.pckl', 'wb') as f:\n",
    "    pickle.dump(ling_annots_to_fix, f)"
   ]
>>>>>>> db9ba48a8ea63cb54f695a9c6fd622c0e217fa36
  }
 ],
 "metadata": {
  "kernelspec": {
   "display_name": "Python 3",
   "language": "python",
   "name": "python3"
  },
  "language_info": {
   "codemirror_mode": {
    "name": "ipython",
    "version": 3
   },
   "file_extension": ".py",
   "mimetype": "text/x-python",
   "name": "python",
   "nbconvert_exporter": "python",
   "pygments_lexer": "ipython3",
   "version": "3.6.4"
  },
  "toc": {
   "colors": {
    "hover_highlight": "#DAA520",
    "running_highlight": "#FF0000",
    "selected_highlight": "#FFD700"
   },
   "moveMenuLeft": true,
   "nav_menu": {
    "height": "12px",
    "width": "253px"
   },
   "navigate_menu": true,
   "number_sections": true,
   "sideBar": true,
   "threshold": 4,
   "toc_cell": false,
   "toc_section_display": "block",
   "toc_window_display": false
  }
 },
 "nbformat": 4,
 "nbformat_minor": 2
}
