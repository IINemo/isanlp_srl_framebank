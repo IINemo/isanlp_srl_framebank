{
 "cells": [
  {
   "cell_type": "code",
   "execution_count": 1,
   "metadata": {},
   "outputs": [],
   "source": [
    "import tensorflow as tf\n",
    "tf.enable_eager_execution()"
   ]
  },
  {
   "cell_type": "code",
   "execution_count": 1,
   "metadata": {},
   "outputs": [],
   "source": [
    "from models import *\n",
    "from training_utils import *"
   ]
  },
  {
   "cell_type": "code",
   "execution_count": 2,
   "metadata": {},
   "outputs": [],
   "source": [
    "import numpy as np"
   ]
  },
  {
   "cell_type": "code",
   "execution_count": 3,
   "metadata": {},
   "outputs": [],
   "source": [
    "labels = np.load(file=\"../data/labels.npy\")"
   ]
  },
  {
   "cell_type": "code",
   "execution_count": 4,
   "metadata": {},
   "outputs": [],
   "source": [
    "plain_features = np.load(file=\"../data/plain_features.npy\")\n",
    "verb_embed = np.load(file=\"../data/verb_embedded.npy\")\n",
    "arg_embed = np.load(file=\"../data/arg_embedded.npy\")"
   ]
  },
  {
   "cell_type": "code",
   "execution_count": 5,
   "metadata": {},
   "outputs": [
    {
     "data": {
      "text/plain": [
       "(30371, 942)"
      ]
     },
     "execution_count": 5,
     "metadata": {},
     "output_type": "execute_result"
    }
   ],
   "source": [
    "plain_features.shape"
   ]
  },
  {
   "cell_type": "code",
   "execution_count": 6,
   "metadata": {},
   "outputs": [
    {
     "name": "stdout",
     "output_type": "stream",
     "text": [
      "WARNING:tensorflow:From /home/rexhaif/miniconda3/envs/main/lib/python3.7/site-packages/tensorflow/python/ops/resource_variable_ops.py:435: colocate_with (from tensorflow.python.framework.ops) is deprecated and will be removed in a future version.\n",
      "Instructions for updating:\n",
      "Colocations handled automatically by placer.\n",
      "WARNING:tensorflow:From /home/rexhaif/miniconda3/envs/main/lib/python3.7/site-packages/tensorflow/python/keras/layers/core.py:143: calling dropout (from tensorflow.python.ops.nn_ops) with keep_prob is deprecated and will be removed in a future version.\n",
      "Instructions for updating:\n",
      "Please use `rate` instead of `keep_prob`. Rate should be set to `rate = 1 - keep_prob`.\n"
     ]
    }
   ],
   "source": [
    "model = SimpleModel(942)\n",
    "model_instance = model.create_and_compile()"
   ]
  },
  {
   "cell_type": "code",
   "execution_count": 7,
   "metadata": {},
   "outputs": [],
   "source": [
    "model_sparse = SparseModel([942, 300, 300])"
   ]
  },
  {
   "cell_type": "code",
   "execution_count": 8,
   "metadata": {},
   "outputs": [],
   "source": [
    "model_instance = model_sparse.create_and_compile()"
   ]
  },
  {
   "cell_type": "code",
   "execution_count": 9,
   "metadata": {},
   "outputs": [
    {
     "name": "stdout",
     "output_type": "stream",
     "text": [
      "Train on 21259 samples, validate on 9112 samples\n",
      "WARNING:tensorflow:From /home/rexhaif/miniconda3/envs/main/lib/python3.7/site-packages/tensorflow/python/ops/math_ops.py:3066: to_int32 (from tensorflow.python.ops.math_ops) is deprecated and will be removed in a future version.\n",
      "Instructions for updating:\n",
      "Use tf.cast instead.\n",
      "Epoch 1/15\n",
      "21259/21259 [==============================] - 3s 164us/sample - loss: 2.1298 - acc: 0.4940 - val_loss: 1.9321 - val_acc: 0.7005\n",
      "Epoch 2/15\n",
      "21259/21259 [==============================] - 3s 122us/sample - loss: 1.2707 - acc: 0.7068 - val_loss: 0.9941 - val_acc: 0.7582\n",
      "Epoch 3/15\n",
      "21259/21259 [==============================] - 3s 123us/sample - loss: 1.0054 - acc: 0.7497 - val_loss: 0.8700 - val_acc: 0.7684\n",
      "Epoch 4/15\n",
      "21259/21259 [==============================] - 3s 122us/sample - loss: 0.8565 - acc: 0.7796 - val_loss: 0.8270 - val_acc: 0.7754\n",
      "Epoch 5/15\n",
      "21259/21259 [==============================] - 3s 121us/sample - loss: 0.7617 - acc: 0.7982 - val_loss: 0.7935 - val_acc: 0.7764\n",
      "Epoch 6/15\n",
      "21259/21259 [==============================] - 3s 125us/sample - loss: 0.6960 - acc: 0.8082 - val_loss: 0.7880 - val_acc: 0.7769\n",
      "Epoch 7/15\n",
      "21259/21259 [==============================] - 3s 131us/sample - loss: 0.6474 - acc: 0.8217 - val_loss: 0.7701 - val_acc: 0.7793\n",
      "Epoch 8/15\n",
      "21259/21259 [==============================] - 3s 132us/sample - loss: 0.5997 - acc: 0.8318 - val_loss: 0.7738 - val_acc: 0.7842\n",
      "Epoch 9/15\n",
      "21259/21259 [==============================] - 3s 121us/sample - loss: 0.5531 - acc: 0.8411 - val_loss: 0.7753 - val_acc: 0.7837\n",
      "Epoch 10/15\n",
      "21259/21259 [==============================] - 3s 137us/sample - loss: 0.5092 - acc: 0.8555 - val_loss: 0.7852 - val_acc: 0.7814\n",
      "Epoch 11/15\n",
      "21259/21259 [==============================] - 3s 134us/sample - loss: 0.4879 - acc: 0.8599 - val_loss: 0.7822 - val_acc: 0.7867\n",
      "Epoch 12/15\n",
      "21259/21259 [==============================] - 3s 139us/sample - loss: 0.4618 - acc: 0.8674 - val_loss: 0.8080 - val_acc: 0.7797\n",
      "Epoch 13/15\n",
      "21259/21259 [==============================] - 3s 132us/sample - loss: 0.4477 - acc: 0.8692 - val_loss: 0.7894 - val_acc: 0.7817\n",
      "Epoch 14/15\n",
      "21259/21259 [==============================] - 3s 143us/sample - loss: 0.4141 - acc: 0.8765 - val_loss: 0.7985 - val_acc: 0.7790\n",
      "Epoch 15/15\n",
      "21259/21259 [==============================] - 3s 136us/sample - loss: 0.3827 - acc: 0.8892 - val_loss: 0.8055 - val_acc: 0.7804\n"
     ]
    },
    {
     "data": {
      "text/plain": [
       "<tensorflow.python.keras.callbacks.History at 0x7fc221b1c080>"
      ]
     },
     "execution_count": 9,
     "metadata": {},
     "output_type": "execute_result"
    }
   ],
   "source": [
    "model_instance.fit([plain_features, verb_embed, arg_embed], labels, batch_size=64, epochs=15, validation_split=0.3)"
   ]
  },
  {
   "cell_type": "code",
   "execution_count": null,
   "metadata": {},
   "outputs": [
    {
     "name": "stdout",
     "output_type": "stream",
     "text": [
      "__________________________________________________________________________________________________\n",
      "Layer (type)                    Output Shape         Param #     Connected to                     \n",
      "==================================================================================================\n",
      "input_8 (InputLayer)            (None, 300)          0                                            \n",
      "__________________________________________________________________________________________________\n",
      "input_9 (InputLayer)            (None, 300)          0                                            \n",
      "__________________________________________________________________________________________________\n",
      "input_7 (InputLayer)            (None, 942)          0                                            \n",
      "__________________________________________________________________________________________________\n",
      "dense_14 (Dense)                (None, 100)          30100       input_8[0][0]                    \n",
      "__________________________________________________________________________________________________\n",
      "dense_15 (Dense)                (None, 100)          30100       input_9[0][0]                    \n",
      "__________________________________________________________________________________________________\n",
      "dense_13 (Dense)                (None, 400)          377200      input_7[0][0]                    \n",
      "__________________________________________________________________________________________________\n",
      "batch_normalization_v1_14 (Batc (None, 100)          400         dense_14[0][0]                   \n",
      "__________________________________________________________________________________________________\n",
      "batch_normalization_v1_15 (Batc (None, 100)          400         dense_15[0][0]                   \n",
      "__________________________________________________________________________________________________\n",
      "batch_normalization_v1_13 (Batc (None, 400)          1600        dense_13[0][0]                   \n",
      "__________________________________________________________________________________________________\n",
      "activation_13 (Activation)      (None, 100)          0           batch_normalization_v1_14[0][0]  \n",
      "__________________________________________________________________________________________________\n",
      "activation_14 (Activation)      (None, 100)          0           batch_normalization_v1_15[0][0]  \n",
      "__________________________________________________________________________________________________\n",
      "activation_12 (Activation)      (None, 400)          0           batch_normalization_v1_13[0][0]  \n",
      "__________________________________________________________________________________________________\n",
      "concatenate_2 (Concatenate)     (None, 600)          0           activation_13[0][0]              \n",
      "                                                                 activation_14[0][0]              \n",
      "                                                                 activation_12[0][0]              \n",
      "__________________________________________________________________________________________________\n",
      "dropout_6 (Dropout)             (None, 600)          0           concatenate_2[0][0]              \n",
      "__________________________________________________________________________________________________\n",
      "dense_16 (Dense)                (None, 400)          240400      dropout_6[0][0]                  \n",
      "__________________________________________________________________________________________________\n",
      "batch_normalization_v1_16 (Batc (None, 400)          1600        dense_16[0][0]                   \n",
      "__________________________________________________________________________________________________\n",
      "activation_15 (Activation)      (None, 400)          0           batch_normalization_v1_16[0][0]  \n",
      "__________________________________________________________________________________________________\n",
      "dropout_7 (Dropout)             (None, 400)          0           activation_15[0][0]              \n",
      "__________________________________________________________________________________________________\n",
      "dense_17 (Dense)                (None, 34)           13634       dropout_7[0][0]                  \n",
      "__________________________________________________________________________________________________\n",
      "batch_normalization_v1_17 (Batc (None, 34)           136         dense_17[0][0]                   \n",
      "__________________________________________________________________________________________________\n",
      "activation_16 (Activation)      (None, 34)           0           batch_normalization_v1_17[0][0]  \n",
      "==================================================================================================\n",
      "Total params: 695,570\n",
      "Trainable params: 693,502\n",
      "Non-trainable params: 2,068\n",
      "__________________________________________________________________________________________________\n",
      "Running Fold 1 / 5\n"
     ]
    }
   ],
   "source": [
    "cv_res = custom_cross_val(model_sparse.create_and_compile, [plain_features, verb_embed, arg_embed], labels, cv=DEFAULT_CV, epochs=13, batch_size=64, validation_split = 0., shuffle=True, verbose = 0)"
   ]
  },
  {
   "cell_type": "code",
   "execution_count": null,
   "metadata": {},
   "outputs": [],
   "source": []
  }
 ],
 "metadata": {
  "kernelspec": {
   "display_name": "Python 3",
   "language": "python",
   "name": "python3"
  },
  "language_info": {
   "codemirror_mode": {
    "name": "ipython",
    "version": 3
   },
   "file_extension": ".py",
   "mimetype": "text/x-python",
   "name": "python",
   "nbconvert_exporter": "python",
   "pygments_lexer": "ipython3",
   "version": "3.7.1"
  }
 },
 "nbformat": 4,
 "nbformat_minor": 2
}
