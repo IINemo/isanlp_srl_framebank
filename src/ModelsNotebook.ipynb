{
 "cells": [
  {
   "cell_type": "code",
   "execution_count": 1,
   "metadata": {},
   "outputs": [],
   "source": [
    "from tensorflow.keras.layers import (\n",
    "    Dense, LSTM, Convolution1D,\n",
    "    Dropout, MaxPooling1D, BatchNormalization\n",
    ")\n",
    "from tensorflow.keras.layers import (\n",
    "    Flatten, Input, TimeDistributed,\n",
    "    Activation, RepeatVector, Permute,\n",
    "    Lambda, Concatenate, Bidirectional, \n",
    "    Masking, concatenate, multiply\n",
    ")\n",
    "import tensorflow as tf\n",
    "import tensorflow.keras.backend as K\n",
    "from tensorflow.keras import Sequential, Model\n",
    "\n",
    "class ModelZoo(object):\n",
    "    \n",
    "    @staticmethod\n",
    "    def plain_model(input_shape, hidden_1=600, hidden_2=400,\n",
    "                    dropout_1=0.3, dropout_2=0.3, optimizer='adam',\n",
    "                    number_of_roles=34):\n",
    "        \n",
    "        plain_model = Sequential()\n",
    "        plain_model.add(Dense(hidden_1, \n",
    "                          #input_shape=(plain_features.shape[1],), \n",
    "                          input_shape = input_shape,\n",
    "                          activation = tf.keras.activations.relu))\n",
    "        plain_model.add(Dropout(dropout_1))\n",
    "    \n",
    "        plain_model.add(Dense(hidden_2))\n",
    "        plain_model.add(BatchNormalization())\n",
    "        plain_model.add(Activation('relu'))\n",
    "        plain_model.add(Dropout(dropout_2))\n",
    "    \n",
    "        plain_model.add(Dense(number_of_roles))\n",
    "        plain_model.add(BatchNormalization())\n",
    "        plain_model.add(Activation('softmax'))\n",
    "    \n",
    "        plain_model.compile(optimizer=optimizer, loss='categorical_crossentropy', metrics=['accuracy'])\n",
    "    \n",
    "        return plain_model\n",
    "\n",
    "    @staticmethod\n",
    "    def sparse_model(categ_size, emb_size, \n",
    "                     hidden_plain=400, hidden_embed=100, \n",
    "                     hidden_2=400, dropout_1=0.3, dropout_2=0.3,\n",
    "                     optimizer='adam', number_of_roles=34):\n",
    "        \n",
    "        input_plain = Input(shape=(categ_size,), name = 'input_categorical')\n",
    "        input_pred_embed = Input(shape=(emb_size,), name = 'pred_embed')\n",
    "        input_arg_embed = Input(shape=(emb_size,), name = 'arg_embed')\n",
    "    \n",
    "        plain = Dense(hidden_plain)(input_plain)\n",
    "        plain = BatchNormalization()(plain)\n",
    "        plain = Activation('relu')(plain)\n",
    "    \n",
    "        def embed_submodel(inpt):\n",
    "            embed = Dense(hidden_embed)(inpt)\n",
    "            embed = BatchNormalization()(embed)\n",
    "            embed = Activation('relu')(embed)\n",
    "            return embed\n",
    "    \n",
    "        embed_pred = embed_submodel(input_pred_embed)\n",
    "        embed_arg = embed_submodel(input_arg_embed)\n",
    "    \n",
    "        final = Concatenate(axis = 1)([embed_pred, embed_arg, plain])\n",
    "        final = Dropout(dropout_1)(final)\n",
    "        final = Dense(hidden_2)(final)\n",
    "        final = BatchNormalization()(final)\n",
    "        final = Activation('relu')(final)\n",
    "        final = Dropout(dropout_2)(final)\n",
    "        final = Dense(number_of_roles)(final)\n",
    "        final = BatchNormalization()(final)\n",
    "        final = Activation('softmax')(final)\n",
    "    \n",
    "        model = Model([input_arg_embed, input_pred_embed, input_plain], final)\n",
    "        model.compile(optimizer=optimizer, loss='categorical_crossentropy', metrics=['accuracy'])\n",
    "    \n",
    "        return model"
   ]
  },
  {
   "cell_type": "code",
   "execution_count": 45,
   "metadata": {},
   "outputs": [],
   "source": [
    "class SparseModel(tf.keras.Model):\n",
    "    def __init__(self, hidden_categorical=400, hidden_embeddings=100, hidden_final=400, dropout_1=0.3, dropout_2=0.3, number_of_roles=34):\n",
    "        super(SparseModel, self).__init__(name=\"sparse_model\")\n",
    "        self.fc_categorical = nn.Dense(units=hidden_categorical)\n",
    "        self.fc_pred_embedding = nn.Dense(units=hidden_embeddings)\n",
    "        self.fc_arg_embedding = nn.Dense(units=hidden_embeddings)\n",
    "        self.fc_concat = nn.Dense(units=hidden_final)\n",
    "        self.fc_final = nn.Dense(units=number_of_roles)\n",
    "        self.dropout1 = nn.Dropout(rate=dropout_1)\n",
    "        self.dropout2 = nn.Dropout(rate=dropout_2)\n",
    "        self.batch_norms = {f'bn_{i}': nn.BatchNormalization() for i in ['categorical', 'embed_pred', 'embed_arg', 'concat', 'final']}\n",
    "        \n",
    "    def call(self, inputs):\n",
    "        embed_pred, embed_arg, categorical = inputs\n",
    "        embed_pred = self.fc_pred_embedding(embed_pred)\n",
    "        embed_pred = tf.nn.relu(self.batch_norms['bn_embed_pred'](embed_pred))\n",
    "        \n",
    "        embed_arg = self.fc_arg_embedding(embed_arg)\n",
    "        embed_arg = tf.nn.relu(self.batch_norms['bn_embed_arg'](embed_arg))\n",
    "        \n",
    "        categorical = self.fc_categorical(categorical)\n",
    "        categorical = tf.nn.relu(self.batch_norms['bn_categorical'](categorical))\n",
    "        \n",
    "        concat = tf.concat([embed_pred, embed_arg, categorical], axis=1)\n",
    "        concat = self.dropout1(concat)\n",
    "        concat = self.fc_concat(concat)\n",
    "        concat = tf.nn.relu(self.batch_norms['bn_concat'](concat))\n",
    "        \n",
    "        final = self.dropout2(concat)\n",
    "        final = self.fc_final(final)\n",
    "        final = tf.nn.softmax(self.batch_norms['bn_final'](final))\n",
    "        \n",
    "        return final\n",
    "        "
   ]
  },
  {
   "cell_type": "code",
   "execution_count": 35,
   "metadata": {},
   "outputs": [],
   "source": [
    "import tensorflow as tf\n",
    "from tensorflow.keras import layers as nn"
   ]
  },
  {
   "cell_type": "code",
   "execution_count": 36,
   "metadata": {},
   "outputs": [],
   "source": [
    "class SimpleModel(tf.keras.Model):\n",
    "    def __init__(self, hidden_1=600, hidden_2=400, dropout_1=0.3, dropout_2=0.3, number_of_roles=34):\n",
    "        super(SimpleModel, self).__init__(name='simple_model')\n",
    "        self.fc1 = nn.Dense(units=hidden_1, activation=tf.nn.relu)\n",
    "        self.dropout1 = nn.Dropout(rate=dropout_1)\n",
    "        self.dropout2 = nn.Dropout(rate=dropout_2)\n",
    "        self.fc2 = nn.Dense(units=hidden_2)\n",
    "        self.bn1 = nn.BatchNormalization()\n",
    "        self.fc3 = nn.Dense(units=number_of_roles)\n",
    "        self.bn2 = nn.BatchNormalization()\n",
    "        \n",
    "    def call(self, inputs):\n",
    "        x = self.fc1(inputs)\n",
    "        x = self.dropout1(x)\n",
    "        x = self.fc2(x)\n",
    "        x = tf.nn.relu(self.bn1(x))\n",
    "        x = self.dropout2(x)\n",
    "        x = self.bn2(self.fc3(x))\n",
    "        return tf.nn.softmax(x)"
   ]
  },
  {
   "cell_type": "code",
   "execution_count": 37,
   "metadata": {},
   "outputs": [],
   "source": [
    "tf.enable_eager_execution()"
   ]
  },
  {
   "cell_type": "code",
   "execution_count": 38,
   "metadata": {},
   "outputs": [
    {
     "data": {
      "text/plain": [
       "True"
      ]
     },
     "execution_count": 38,
     "metadata": {},
     "output_type": "execute_result"
    }
   ],
   "source": [
    "tf.executing_eagerly()"
   ]
  },
  {
   "cell_type": "code",
   "execution_count": 39,
   "metadata": {},
   "outputs": [],
   "source": [
    "example = tf.random.normal(shape=(16, 700))"
   ]
  },
  {
   "cell_type": "code",
   "execution_count": 40,
   "metadata": {},
   "outputs": [],
   "source": [
    "model = SimpleModel()"
   ]
  },
  {
   "cell_type": "code",
   "execution_count": 46,
   "metadata": {},
   "outputs": [],
   "source": [
    "sparse = SparseModel()"
   ]
  },
  {
   "cell_type": "code",
   "execution_count": 42,
   "metadata": {},
   "outputs": [
    {
     "data": {
      "text/plain": [
       "<tf.Tensor: id=771, shape=(16,), dtype=float32, numpy=\n",
       "array([0.9999999 , 0.9999999 , 1.        , 1.        , 1.        ,\n",
       "       1.        , 1.        , 1.        , 1.        , 1.        ,\n",
       "       0.99999994, 1.        , 1.        , 1.        , 1.0000001 ,\n",
       "       0.99999994], dtype=float32)>"
      ]
     },
     "execution_count": 42,
     "metadata": {},
     "output_type": "execute_result"
    }
   ],
   "source": [
    "tf.reduce_sum(model(example), axis=-1)"
   ]
  },
  {
   "cell_type": "code",
   "execution_count": 47,
   "metadata": {},
   "outputs": [],
   "source": [
    "embed_pred = tf.random.normal(shape=(16, 300))\n",
    "embed_arg  = tf.random.normal(shape=(16, 300))\n",
    "categoric  = tf.random.normal(shape=(16, 700))"
   ]
  },
  {
   "cell_type": "code",
   "execution_count": 52,
   "metadata": {},
   "outputs": [
    {
     "data": {
      "text/plain": [
       "[0.9999999,\n",
       " 1.0,\n",
       " 1.0,\n",
       " 0.99999994,\n",
       " 1.0,\n",
       " 1.0,\n",
       " 1.0,\n",
       " 1.0,\n",
       " 0.9999999,\n",
       " 1.0,\n",
       " 0.9999999,\n",
       " 1.0,\n",
       " 1.0,\n",
       " 1.0,\n",
       " 1.0,\n",
       " 0.9999999]"
      ]
     },
     "execution_count": 52,
     "metadata": {},
     "output_type": "execute_result"
    }
   ],
   "source": [
    "list(tf.reduce_sum(sparse((embed_pred, embed_pred, categoric)), axis=1).numpy())"
   ]
  },
  {
   "cell_type": "code",
   "execution_count": null,
   "metadata": {},
   "outputs": [],
   "source": []
  }
 ],
 "metadata": {
  "kernelspec": {
   "display_name": "Python 3",
   "language": "python",
   "name": "python3"
  },
  "language_info": {
   "codemirror_mode": {
    "name": "ipython",
    "version": 3
   },
   "file_extension": ".py",
   "mimetype": "text/x-python",
   "name": "python",
   "nbconvert_exporter": "python",
   "pygments_lexer": "ipython3",
   "version": "3.7.1"
  }
 },
 "nbformat": 4,
 "nbformat_minor": 2
}
