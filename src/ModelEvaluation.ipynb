{
 "cells": [
  {
   "cell_type": "code",
   "execution_count": 1,
   "metadata": {},
   "outputs": [],
   "source": [
    "%load_ext autoreload\n",
    "%autoreload 2"
   ]
  },
  {
   "cell_type": "code",
   "execution_count": 2,
   "metadata": {},
   "outputs": [],
   "source": [
    "from models import *\n",
    "from training_utils import *"
   ]
  },
  {
   "cell_type": "code",
   "execution_count": 3,
   "metadata": {},
   "outputs": [],
   "source": [
    "import numpy as np"
   ]
  },
  {
   "cell_type": "code",
   "execution_count": 4,
   "metadata": {},
   "outputs": [],
   "source": [
    "labels = np.load(file=\"../data/labels.npy\")"
   ]
  },
  {
   "cell_type": "code",
   "execution_count": 5,
   "metadata": {},
   "outputs": [],
   "source": [
    "plain_features = np.load(file=\"../data/plain_features.npy\")\n",
    "verb_embed = np.load(file=\"../data/verb_embedded.npy\")\n",
    "arg_embed = np.load(file=\"../data/arg_embedded.npy\")"
   ]
  },
  {
   "cell_type": "code",
   "execution_count": 6,
   "metadata": {},
   "outputs": [],
   "source": [
    "simple_factory = SimpleModelFactory(942)\n",
    "sparse_factory = SparseModelFactory([942, 300, 300])"
   ]
  },
  {
   "cell_type": "markdown",
   "metadata": {},
   "source": [
    "## Simple model"
   ]
  },
  {
   "cell_type": "code",
   "execution_count": 7,
   "metadata": {},
   "outputs": [
    {
     "name": "stdout",
     "output_type": "stream",
     "text": [
      "Model: \"sequential\"\n",
      "_________________________________________________________________\n",
      "Layer (type)                 Output Shape              Param #   \n",
      "=================================================================\n",
      "dense (Dense)                (None, 600)               565800    \n",
      "_________________________________________________________________\n",
      "dropout (Dropout)            (None, 600)               0         \n",
      "_________________________________________________________________\n",
      "batch_normalization_v2 (Batc (None, 600)               2400      \n",
      "_________________________________________________________________\n",
      "dense_1 (Dense)              (None, 400)               240400    \n",
      "_________________________________________________________________\n",
      "batch_normalization_v2_1 (Ba (None, 400)               1600      \n",
      "_________________________________________________________________\n",
      "activation (Activation)      (None, 400)               0         \n",
      "_________________________________________________________________\n",
      "dropout_1 (Dropout)          (None, 400)               0         \n",
      "_________________________________________________________________\n",
      "dense_2 (Dense)              (None, 34)                13634     \n",
      "_________________________________________________________________\n",
      "batch_normalization_v2_2 (Ba (None, 34)                136       \n",
      "_________________________________________________________________\n",
      "activation_1 (Activation)    (None, 34)                0         \n",
      "=================================================================\n",
      "Total params: 823,970\n",
      "Trainable params: 821,902\n",
      "Non-trainable params: 2,068\n",
      "_________________________________________________________________\n",
      "Running Fold 1 / 5\n",
      "6075/6075 [==============================] - 0s 67us/sample - loss: 0.8750 - accuracy: 0.7728\n",
      "\n",
      "Fold result:  [0.875032208858694, 0.7728395, 0.7728395061728395, 0.7544387374494308, 0.7728395061728395]\n",
      "Running Fold 2 / 5\n",
      "6074/6074 [==============================] - 0s 68us/sample - loss: 0.8135 - accuracy: 0.7771\n",
      "\n",
      "Fold result:  [0.8134525607870251, 0.7770826, 0.777082647349358, 0.75338868343912, 0.777082647349358]\n",
      "Running Fold 3 / 5\n",
      "6074/6074 [==============================] - 0s 68us/sample - loss: 0.8351 - accuracy: 0.7718\n",
      "\n",
      "Fold result:  [0.8350636278244473, 0.7718143, 0.7718142904181758, 0.7425235686764616, 0.7718142904181758]\n",
      "Running Fold 4 / 5\n",
      "6074/6074 [==============================] - 0s 68us/sample - loss: 0.8398 - accuracy: 0.7670\n",
      "\n",
      "Fold result:  [0.8397890567524401, 0.76703984, 0.767039841949292, 0.736863690362293, 0.7670398419492921]\n",
      "Running Fold 5 / 5\n",
      "6074/6074 [==============================] - 0s 70us/sample - loss: 0.8635 - accuracy: 0.7689\n",
      "\n",
      "Fold result:  [0.863541748164946, 0.76885086, 0.7688508396443859, 0.7443529804773655, 0.7688508396443859]\n",
      "[[0.87503221 0.77283949 0.77283951 0.75443874 0.77283951]\n",
      " [0.81345256 0.77708262 0.77708265 0.75338868 0.77708265]\n",
      " [0.83506363 0.77181429 0.77181429 0.74252357 0.77181429]\n",
      " [0.83978906 0.76703984 0.76703984 0.73686369 0.76703984]\n",
      " [0.86354175 0.76885086 0.76885084 0.74435298 0.76885084]]\n",
      "Mean\n",
      "       loss  keras_accur  micro_f1  macro_f1     accur\n",
      "0  0.845376     0.771525  0.771525  0.746314  0.771525\n",
      "Std\n",
      "       loss  keras_accur  micro_f1  macro_f1     accur\n",
      "0  0.021754     0.003463  0.003463  0.006687  0.003463\n"
     ]
    }
   ],
   "source": [
    "cv_res_simple = custom_cross_val(simple_factory.create_and_compile, [plain_features], labels, cv=DEFAULT_CV, epochs=13, batch_size=64, validation_split = 0., shuffle=True, verbose = 0)\n",
    "describe_cv_result(cv_res_simple)"
   ]
  },
  {
   "cell_type": "markdown",
   "metadata": {},
   "source": [
    "## Sparse Model"
   ]
  },
  {
   "cell_type": "code",
   "execution_count": 8,
   "metadata": {},
   "outputs": [
    {
     "name": "stdout",
     "output_type": "stream",
     "text": [
      "Model: \"model\"\n",
      "__________________________________________________________________________________________________\n",
      "Layer (type)                    Output Shape         Param #     Connected to                     \n",
      "==================================================================================================\n",
      "input-predicate-embeddings (Inp [(None, 300)]        0                                            \n",
      "__________________________________________________________________________________________________\n",
      "input_1 (InputLayer)            [(None, 300)]        0                                            \n",
      "__________________________________________________________________________________________________\n",
      "input-categorical (InputLayer)  [(None, 942)]        0                                            \n",
      "__________________________________________________________________________________________________\n",
      "dense_19 (Dense)                (None, 100)          30100       input-predicate-embeddings[0][0] \n",
      "__________________________________________________________________________________________________\n",
      "dense_20 (Dense)                (None, 100)          30100       input_1[0][0]                    \n",
      "__________________________________________________________________________________________________\n",
      "dense_18 (Dense)                (None, 400)          377200      input-categorical[0][0]          \n",
      "__________________________________________________________________________________________________\n",
      "batch_normalization_v2_19 (Batc (None, 100)          400         dense_19[0][0]                   \n",
      "__________________________________________________________________________________________________\n",
      "batch_normalization_v2_20 (Batc (None, 100)          400         dense_20[0][0]                   \n",
      "__________________________________________________________________________________________________\n",
      "batch_normalization_v2_18 (Batc (None, 400)          1600        dense_18[0][0]                   \n",
      "__________________________________________________________________________________________________\n",
      "activation_13 (Activation)      (None, 100)          0           batch_normalization_v2_19[0][0]  \n",
      "__________________________________________________________________________________________________\n",
      "activation_14 (Activation)      (None, 100)          0           batch_normalization_v2_20[0][0]  \n",
      "__________________________________________________________________________________________________\n",
      "activation_12 (Activation)      (None, 400)          0           batch_normalization_v2_18[0][0]  \n",
      "__________________________________________________________________________________________________\n",
      "concatenate (Concatenate)       (None, 600)          0           activation_13[0][0]              \n",
      "                                                                 activation_14[0][0]              \n",
      "                                                                 activation_12[0][0]              \n",
      "__________________________________________________________________________________________________\n",
      "dropout_12 (Dropout)            (None, 600)          0           concatenate[0][0]                \n",
      "__________________________________________________________________________________________________\n",
      "dense_21 (Dense)                (None, 400)          240400      dropout_12[0][0]                 \n",
      "__________________________________________________________________________________________________\n",
      "batch_normalization_v2_21 (Batc (None, 400)          1600        dense_21[0][0]                   \n",
      "__________________________________________________________________________________________________\n",
      "activation_15 (Activation)      (None, 400)          0           batch_normalization_v2_21[0][0]  \n",
      "__________________________________________________________________________________________________\n",
      "dropout_13 (Dropout)            (None, 400)          0           activation_15[0][0]              \n",
      "__________________________________________________________________________________________________\n",
      "dense_22 (Dense)                (None, 34)           13634       dropout_13[0][0]                 \n",
      "__________________________________________________________________________________________________\n",
      "batch_normalization_v2_22 (Batc (None, 34)           136         dense_22[0][0]                   \n",
      "__________________________________________________________________________________________________\n",
      "activation_16 (Activation)      (None, 34)           0           batch_normalization_v2_22[0][0]  \n",
      "==================================================================================================\n",
      "Total params: 695,570\n",
      "Trainable params: 693,502\n",
      "Non-trainable params: 2,068\n",
      "__________________________________________________________________________________________________\n",
      "Running Fold 1 / 5\n",
      "6075/6075 [==============================] - 1s 92us/sample - loss: 0.7774 - accuracy: 0.7863\n",
      "\n",
      "Fold result:  [0.7774105930328369, 0.78633744, 0.7863374485596708, 0.7686605663225705, 0.7863374485596708]\n",
      "Running Fold 2 / 5\n",
      "6074/6074 [==============================] - 0s 79us/sample - loss: 0.7197 - accuracy: 0.7978\n",
      "\n",
      "Fold result:  [0.7196520063725592, 0.7978268, 0.7978268027658874, 0.7810854278546717, 0.7978268027658874]\n",
      "Running Fold 3 / 5\n",
      "6074/6074 [==============================] - 1s 83us/sample - loss: 0.7365 - accuracy: 0.7947\n",
      "\n",
      "Fold result:  [0.7364503909460526, 0.7946987, 0.794698715837998, 0.7646802193837231, 0.794698715837998]\n",
      "Running Fold 4 / 5\n",
      "6074/6074 [==============================] - 1s 83us/sample - loss: 0.7458 - accuracy: 0.7893\n",
      "\n",
      "Fold result:  [0.7457502761933613, 0.78926575, 0.7892657227527164, 0.7657516162716057, 0.7892657227527164]\n",
      "Running Fold 5 / 5\n",
      "6074/6074 [==============================] - 1s 84us/sample - loss: 0.7633 - accuracy: 0.7868\n",
      "\n",
      "Fold result:  [0.7632652891675304, 0.78679615, 0.7867961804412249, 0.7702033436041157, 0.7867961804412249]\n",
      "[[0.77741059 0.78633744 0.78633745 0.76866057 0.78633745]\n",
      " [0.71965201 0.79782683 0.7978268  0.78108543 0.7978268 ]\n",
      " [0.73645039 0.79469872 0.79469872 0.76468022 0.79469872]\n",
      " [0.74575028 0.78926575 0.78926572 0.76575162 0.78926572]\n",
      " [0.76326529 0.78679615 0.78679618 0.77020334 0.78679618]]\n",
      "Mean\n",
      "       loss  keras_accur  micro_f1  macro_f1     accur\n",
      "0  0.748506     0.790985  0.790985  0.770076  0.790985\n",
      "Std\n",
      "       loss  keras_accur  micro_f1  macro_f1     accur\n",
      "0  0.020193     0.004532  0.004532  0.005849  0.004532\n"
     ]
    }
   ],
   "source": [
    "cv_res_sparse = custom_cross_val(sparse_factory.create_and_compile, [plain_features, verb_embed, arg_embed], labels, cv=DEFAULT_CV, epochs=13, batch_size=64, validation_split = 0., shuffle=True, verbose = 0)\n",
    "describe_cv_result(cv_res_simple)"
   ]
  },
  {
   "cell_type": "code",
   "execution_count": null,
   "metadata": {},
   "outputs": [],
   "source": []
  }
 ],
 "metadata": {
  "kernelspec": {
   "display_name": "Python 3",
   "language": "python",
   "name": "python3"
  },
  "language_info": {
   "codemirror_mode": {
    "name": "ipython",
    "version": 3
   },
   "file_extension": ".py",
   "mimetype": "text/x-python",
   "name": "python",
   "nbconvert_exporter": "python",
   "pygments_lexer": "ipython3",
   "version": "3.7.1"
  }
 },
 "nbformat": 4,
 "nbformat_minor": 2
}
