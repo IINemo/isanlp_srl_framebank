{
 "cells": [
  {
   "cell_type": "code",
   "execution_count": 1,
   "metadata": {},
   "outputs": [],
   "source": [
    "%load_ext autoreload\n",
    "%autoreload 2"
   ]
  },
  {
   "cell_type": "code",
   "execution_count": 1,
   "metadata": {},
   "outputs": [],
   "source": [
    "from models import *\n",
    "from training_utils import *"
   ]
  },
  {
   "cell_type": "code",
   "execution_count": 2,
   "metadata": {},
   "outputs": [],
   "source": [
    "import tensorflow as tf"
   ]
  },
  {
   "cell_type": "code",
   "execution_count": 4,
   "metadata": {},
   "outputs": [],
   "source": [
    "#tf.random.set_seed(42)\n",
    "np.random.seed(42)"
   ]
  },
  {
   "cell_type": "code",
   "execution_count": 5,
   "metadata": {},
   "outputs": [],
   "source": [
    "import numpy as np"
   ]
  },
  {
   "cell_type": "code",
   "execution_count": 6,
   "metadata": {},
   "outputs": [],
   "source": [
    "labels = np.load(file=\"../data/labels.npy\")"
   ]
  },
  {
   "cell_type": "code",
   "execution_count": 7,
   "metadata": {},
   "outputs": [],
   "source": [
    "plain_features = np.load(file=\"../data/plain_features.npy\")\n",
    "verb_embed = np.load(file=\"../data/elmo_verbs.npy\")\n",
    "arg_embed = np.load(file=\"../data/elmo_args.npy\")"
   ]
  },
  {
   "cell_type": "code",
   "execution_count": 8,
   "metadata": {},
   "outputs": [
    {
     "name": "stdout",
     "output_type": "stream",
     "text": [
      "Shapes\n",
      "Labels: (52751, 44)\n",
      "Plain: (52751, 932)\n",
      "Verbs: (52751, 1024)\n",
      "Args: (52751, 1024)\n"
     ]
    }
   ],
   "source": [
    "print(\"Shapes\")\n",
    "print(f\"Labels: {labels.shape}\")\n",
    "print(f\"Plain: {plain_features.shape}\")\n",
    "print(f\"Verbs: {verb_embed.shape}\")\n",
    "print(f\"Args: {arg_embed.shape}\")"
   ]
  },
  {
   "cell_type": "code",
   "execution_count": 11,
   "metadata": {},
   "outputs": [],
   "source": [
    "simple_factory = SimpleModelFactory(932, number_of_roles=44)\n",
    "concat_factory = SimpleModelFactory(932+1024+1024, number_of_roles=44)\n",
    "sparse_factory = SparseModelFactory([932, 1024, 1024], number_of_roles=44)"
   ]
  },
  {
   "cell_type": "markdown",
   "metadata": {},
   "source": [
    "## Simple model"
   ]
  },
  {
   "cell_type": "code",
   "execution_count": null,
   "metadata": {},
   "outputs": [
    {
     "name": "stdout",
     "output_type": "stream",
     "text": [
      "_________________________________________________________________\n",
      "Layer (type)                 Output Shape              Param #   \n",
      "=================================================================\n",
      "dense_6 (Dense)              (None, 600)               559800    \n",
      "_________________________________________________________________\n",
      "dropout_4 (Dropout)          (None, 600)               0         \n",
      "_________________________________________________________________\n",
      "batch_normalization_6 (Batch (None, 600)               2400      \n",
      "_________________________________________________________________\n",
      "dense_7 (Dense)              (None, 400)               240400    \n",
      "_________________________________________________________________\n",
      "batch_normalization_7 (Batch (None, 400)               1600      \n",
      "_________________________________________________________________\n",
      "activation_4 (Activation)    (None, 400)               0         \n",
      "_________________________________________________________________\n",
      "dropout_5 (Dropout)          (None, 400)               0         \n",
      "_________________________________________________________________\n",
      "dense_8 (Dense)              (None, 44)                17644     \n",
      "_________________________________________________________________\n",
      "batch_normalization_8 (Batch (None, 44)                176       \n",
      "_________________________________________________________________\n",
      "activation_5 (Activation)    (None, 44)                0         \n",
      "=================================================================\n",
      "Total params: 822,020\n",
      "Trainable params: 819,932\n",
      "Non-trainable params: 2,088\n",
      "_________________________________________________________________\n",
      "Running Fold 1 / 5\n"
     ]
    }
   ],
   "source": [
    "cv_res_simple = custom_cross_val(simple_factory.create_and_compile, [plain_features], labels, cv=DEFAULT_CV, epochs=13, batch_size=64, validation_split = 0., shuffle=True, verbose = 0)\n",
    "describe_cv_result(cv_res_simple)"
   ]
  },
  {
   "cell_type": "code",
   "execution_count": 13,
   "metadata": {},
   "outputs": [
    {
     "name": "stdout",
     "output_type": "stream",
     "text": [
      "[[0.81473612 0.76182352 0.76182352 0.72614624 0.76182352]\n",
      " [0.82082522 0.76815166 0.76815166 0.72982825 0.76815166]\n",
      " [0.78318418 0.77317536 0.77317536 0.73670029 0.77317536]\n",
      " [0.78552898 0.77260664 0.77260664 0.73761419 0.77260664]\n",
      " [0.80872386 0.76654028 0.76654028 0.73277883 0.76654028]]\n",
      "Mean\n",
      "     loss  keras_accur  micro_f1  macro_f1     accur\n",
      "0  0.8026     0.768459  0.768459  0.732614  0.768459\n",
      "Std\n",
      "       loss  keras_accur  micro_f1  macro_f1     accur\n",
      "0  0.015397     0.004177  0.004177  0.004274  0.004177\n"
     ]
    }
   ],
   "source": [
    "describe_cv_result(cv_res_simple)"
   ]
  },
  {
   "cell_type": "code",
   "execution_count": 14,
   "metadata": {},
   "outputs": [],
   "source": [
    "chunk = np.concatenate((verb_embed, arg_embed, plain_features), axis=1)"
   ]
  },
  {
   "cell_type": "markdown",
   "metadata": {},
   "source": [
    "# Simple Concatenated"
   ]
  },
  {
   "cell_type": "code",
   "execution_count": 15,
   "metadata": {},
   "outputs": [
    {
     "name": "stdout",
     "output_type": "stream",
     "text": [
      "_________________________________________________________________\n",
      "Layer (type)                 Output Shape              Param #   \n",
      "=================================================================\n",
      "dense_24 (Dense)             (None, 600)               1788600   \n",
      "_________________________________________________________________\n",
      "dropout_16 (Dropout)         (None, 600)               0         \n",
      "_________________________________________________________________\n",
      "batch_normalization_24 (Batc (None, 600)               2400      \n",
      "_________________________________________________________________\n",
      "dense_25 (Dense)             (None, 400)               240400    \n",
      "_________________________________________________________________\n",
      "batch_normalization_25 (Batc (None, 400)               1600      \n",
      "_________________________________________________________________\n",
      "activation_16 (Activation)   (None, 400)               0         \n",
      "_________________________________________________________________\n",
      "dropout_17 (Dropout)         (None, 400)               0         \n",
      "_________________________________________________________________\n",
      "dense_26 (Dense)             (None, 44)                17644     \n",
      "_________________________________________________________________\n",
      "batch_normalization_26 (Batc (None, 44)                176       \n",
      "_________________________________________________________________\n",
      "activation_17 (Activation)   (None, 44)                0         \n",
      "=================================================================\n",
      "Total params: 2,050,820\n",
      "Trainable params: 2,048,732\n",
      "Non-trainable params: 2,088\n",
      "_________________________________________________________________\n",
      "Running Fold 1 / 5\n",
      "10551/10551 [==============================] - 1s 128us/step\n",
      "\n",
      "Fold result:  [0.752850132173367, 0.8018197327098082, 0.8018197327267558, 0.7606662333754504, 0.8018197327267558]\n",
      "Running Fold 2 / 5\n",
      "10550/10550 [==============================] - 1s 134us/step\n",
      "\n",
      "Fold result:  [0.7417833365309295, 0.8027488151545773, 0.8027488151658768, 0.7603688775827404, 0.8027488151658768]\n",
      "Running Fold 3 / 5\n",
      "10550/10550 [==============================] - 1s 142us/step\n",
      "\n",
      "Fold result:  [0.7701720125358816, 0.8053080569285352, 0.8053080568720379, 0.7597352519616216, 0.8053080568720379]\n",
      "Running Fold 4 / 5\n",
      "10550/10550 [==============================] - 2s 150us/step\n",
      "\n",
      "Fold result:  [0.7171815111286832, 0.8098578198826144, 0.8098578199052132, 0.7696960526424756, 0.8098578199052132]\n",
      "Running Fold 5 / 5\n",
      "10550/10550 [==============================] - 2s 158us/step\n",
      "\n",
      "Fold result:  [0.7273474758044238, 0.8068246445384636, 0.8068246445497629, 0.7640583486735324, 0.806824644549763]\n",
      "[[0.75285013 0.80181973 0.80181973 0.76066623 0.80181973]\n",
      " [0.74178334 0.80274882 0.80274882 0.76036888 0.80274882]\n",
      " [0.77017201 0.80530806 0.80530806 0.75973525 0.80530806]\n",
      " [0.71718151 0.80985782 0.80985782 0.76969605 0.80985782]\n",
      " [0.72734748 0.80682464 0.80682464 0.76405835 0.80682464]]\n",
      "Mean\n",
      "       loss  keras_accur  micro_f1  macro_f1     accur\n",
      "0  0.741867     0.805312  0.805312  0.762905  0.805312\n",
      "Std\n",
      "       loss  keras_accur  micro_f1  macro_f1     accur\n",
      "0  0.018665     0.002889  0.002889  0.003713  0.002889\n"
     ]
    }
   ],
   "source": [
    "cv_res_concat = custom_cross_val(concat_factory.create_and_compile, [chunk], labels, cv=DEFAULT_CV, epochs=13, batch_size=64, validation_split = 0., shuffle=True, verbose = 0)\n",
    "describe_cv_result(cv_res_concat)"
   ]
  },
  {
   "cell_type": "markdown",
   "metadata": {},
   "source": [
    "## Sparse Model"
   ]
  },
  {
   "cell_type": "code",
   "execution_count": 16,
   "metadata": {},
   "outputs": [
    {
     "name": "stdout",
     "output_type": "stream",
     "text": [
      "__________________________________________________________________________________________________\n",
      "Layer (type)                    Output Shape         Param #     Connected to                     \n",
      "==================================================================================================\n",
      "input-predicate-embeddings (Inp (None, 1024)         0                                            \n",
      "__________________________________________________________________________________________________\n",
      "input_1 (InputLayer)            (None, 1024)         0                                            \n",
      "__________________________________________________________________________________________________\n",
      "input-categorical (InputLayer)  (None, 932)          0                                            \n",
      "__________________________________________________________________________________________________\n",
      "dense_43 (Dense)                (None, 100)          102500      input-predicate-embeddings[0][0] \n",
      "__________________________________________________________________________________________________\n",
      "dense_44 (Dense)                (None, 100)          102500      input_1[0][0]                    \n",
      "__________________________________________________________________________________________________\n",
      "dense_42 (Dense)                (None, 400)          373200      input-categorical[0][0]          \n",
      "__________________________________________________________________________________________________\n",
      "batch_normalization_43 (BatchNo (None, 100)          400         dense_43[0][0]                   \n",
      "__________________________________________________________________________________________________\n",
      "batch_normalization_44 (BatchNo (None, 100)          400         dense_44[0][0]                   \n",
      "__________________________________________________________________________________________________\n",
      "batch_normalization_42 (BatchNo (None, 400)          1600        dense_42[0][0]                   \n",
      "__________________________________________________________________________________________________\n",
      "activation_29 (Activation)      (None, 100)          0           batch_normalization_43[0][0]     \n",
      "__________________________________________________________________________________________________\n",
      "activation_30 (Activation)      (None, 100)          0           batch_normalization_44[0][0]     \n",
      "__________________________________________________________________________________________________\n",
      "activation_28 (Activation)      (None, 400)          0           batch_normalization_42[0][0]     \n",
      "__________________________________________________________________________________________________\n",
      "concatenate (Concatenate)       (None, 600)          0           activation_29[0][0]              \n",
      "                                                                 activation_30[0][0]              \n",
      "                                                                 activation_28[0][0]              \n",
      "__________________________________________________________________________________________________\n",
      "dropout_28 (Dropout)            (None, 600)          0           concatenate[0][0]                \n",
      "__________________________________________________________________________________________________\n",
      "dense_45 (Dense)                (None, 400)          240400      dropout_28[0][0]                 \n",
      "__________________________________________________________________________________________________\n",
      "batch_normalization_45 (BatchNo (None, 400)          1600        dense_45[0][0]                   \n",
      "__________________________________________________________________________________________________\n",
      "activation_31 (Activation)      (None, 400)          0           batch_normalization_45[0][0]     \n",
      "__________________________________________________________________________________________________\n",
      "dropout_29 (Dropout)            (None, 400)          0           activation_31[0][0]              \n",
      "__________________________________________________________________________________________________\n",
      "dense_46 (Dense)                (None, 44)           17644       dropout_29[0][0]                 \n",
      "__________________________________________________________________________________________________\n",
      "batch_normalization_46 (BatchNo (None, 44)           176         dense_46[0][0]                   \n",
      "__________________________________________________________________________________________________\n",
      "activation_32 (Activation)      (None, 44)           0           batch_normalization_46[0][0]     \n",
      "==================================================================================================\n",
      "Total params: 840,420\n",
      "Trainable params: 838,332\n",
      "Non-trainable params: 2,088\n",
      "__________________________________________________________________________________________________\n",
      "Running Fold 1 / 5\n",
      "10551/10551 [==============================] - 2s 191us/step\n",
      "\n",
      "Fold result:  [0.6122039989683483, 0.8318642782279184, 0.8318642782674628, 0.8020329459091077, 0.8318642782674628]\n",
      "Running Fold 2 / 5\n",
      "10550/10550 [==============================] - 2s 204us/step\n",
      "\n",
      "Fold result:  [0.6144972219286372, 0.8287203792034167, 0.8287203791469194, 0.7949068798501737, 0.8287203791469194]\n",
      "Running Fold 3 / 5\n",
      "10550/10550 [==============================] - 2s 211us/step\n",
      "\n",
      "Fold result:  [0.5970776984250941, 0.834123222771414, 0.8341232227488151, 0.8027509159194338, 0.8341232227488151]\n",
      "Running Fold 4 / 5\n",
      "10550/10550 [==============================] - 2s 235us/step\n",
      "\n",
      "Fold result:  [0.5703234295709438, 0.8394312795756552, 0.8394312796208532, 0.806732571521255, 0.8394312796208531]\n",
      "Running Fold 5 / 5\n",
      "10550/10550 [==============================] - 3s 251us/step\n",
      "\n",
      "Fold result:  [0.59060393418181, 0.8338388625140438, 0.8338388625592416, 0.8031106725948017, 0.8338388625592417]\n",
      "[[0.612204   0.83186428 0.83186428 0.80203295 0.83186428]\n",
      " [0.61449722 0.82872038 0.82872038 0.79490688 0.82872038]\n",
      " [0.5970777  0.83412322 0.83412322 0.80275092 0.83412322]\n",
      " [0.57032343 0.83943128 0.83943128 0.80673257 0.83943128]\n",
      " [0.59060393 0.83383886 0.83383886 0.80311067 0.83383886]]\n",
      "Mean\n",
      "       loss  keras_accur  micro_f1  macro_f1     accur\n",
      "0  0.596941     0.833596  0.833596  0.801907  0.833596\n",
      "Std\n",
      "       loss  keras_accur  micro_f1  macro_f1     accur\n",
      "0  0.016061     0.003497  0.003497  0.003859  0.003497\n"
     ]
    }
   ],
   "source": [
    "cv_res_sparse = custom_cross_val(sparse_factory.create_and_compile, [plain_features, verb_embed, arg_embed], labels, cv=DEFAULT_CV, epochs=13, batch_size=300, validation_split = 0., shuffle=True, verbose = 0)\n",
    "describe_cv_result(cv_res_sparse)"
   ]
  },
  {
   "cell_type": "code",
   "execution_count": null,
   "metadata": {},
   "outputs": [],
   "source": []
  }
 ],
 "metadata": {
  "kernelspec": {
   "display_name": "Python 3",
   "language": "python",
   "name": "python3"
  },
  "language_info": {
   "codemirror_mode": {
    "name": "ipython",
    "version": 3
   },
   "file_extension": ".py",
   "mimetype": "text/x-python",
   "name": "python",
   "nbconvert_exporter": "python",
   "pygments_lexer": "ipython3",
   "version": "3.6.7"
  }
 },
 "nbformat": 4,
 "nbformat_minor": 2
}
