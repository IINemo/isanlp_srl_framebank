{
 "cells": [
  {
   "cell_type": "code",
   "execution_count": null,
   "metadata": {},
   "outputs": [],
   "source": [
    "!pip install grpcio\n",
    "!pip install git+https://github.com/IINemo/isanlp\n",
    "!pip install git+https://github.com/IINemo/isanlp_srl_framebank"
   ]
  },
  {
   "cell_type": "code",
   "execution_count": null,
   "metadata": {},
   "outputs": [],
   "source": [
    "!docker run --rm -d -p 3334:3333 inemo/isanlp_udpipe"
   ]
  },
  {
   "cell_type": "code",
   "execution_count": 1,
   "metadata": {},
   "outputs": [],
   "source": [
    "%load_ext autoreload\n",
    "%autoreload 2\n",
    "    \n",
    "import sys\n",
    "sys.path.append('../src')"
   ]
  },
  {
   "cell_type": "code",
   "execution_count": 2,
   "metadata": {},
   "outputs": [],
   "source": [
    "import logging\n",
    "logger = logging.getLogger('isanlp_srl_framebank')\n",
    "\n",
    "import sys\n",
    "logging.getLogger().addHandler(logging.StreamHandler(sys.stdout))\n",
    "\n",
    "logger.setLevel(logging.DEBUG)"
   ]
  },
  {
   "cell_type": "code",
   "execution_count": 3,
   "metadata": {},
   "outputs": [],
   "source": [
    "from isanlp.processor_remote import ProcessorRemote\n",
    "\n",
    "synt_proc = ProcessorRemote('192.168.1.69', 3334, 'default')"
   ]
  },
  {
   "cell_type": "code",
   "execution_count": 4,
   "metadata": {},
   "outputs": [
    {
     "name": "stdout",
     "output_type": "stream",
     "text": [
      "Loading the model for known predicates...\n",
      "Loading the model...\n",
      "Done.\n",
      "Loading embeddings...\n",
      "Model has no embeddings! Loading http://files.deeppavlov.ai/deeppavlov_data/elmo_ru-wiki_600k_steps.tar.gz\n"
     ]
    },
    {
     "name": "stderr",
     "output_type": "stream",
     "text": [
      "[nltk_data] Downloading package punkt to /root/nltk_data...\n",
      "[nltk_data]   Package punkt is already up-to-date!\n",
      "[nltk_data] Downloading package stopwords to /root/nltk_data...\n",
      "[nltk_data]   Package stopwords is already up-to-date!\n",
      "[nltk_data] Downloading package perluniprops to /root/nltk_data...\n",
      "[nltk_data]   Package perluniprops is already up-to-date!\n",
      "[nltk_data] Downloading package nonbreaking_prefixes to\n",
      "[nltk_data]     /root/nltk_data...\n",
      "[nltk_data]   Package nonbreaking_prefixes is already up-to-date!\n",
      "Using TensorFlow backend.\n"
     ]
    },
    {
     "name": "stdout",
     "output_type": "stream",
     "text": [
      "From /opt/.pyenv/versions/3.7.4/lib/python3.7/site-packages/deeppavlov/models/embedders/elmo_embedder.py:186: The name tf.ConfigProto is deprecated. Please use tf.compat.v1.ConfigProto instead.\n",
      "\n",
      "From /opt/.pyenv/versions/3.7.4/lib/python3.7/site-packages/deeppavlov/models/embedders/elmo_embedder.py:188: The name tf.Session is deprecated. Please use tf.compat.v1.Session instead.\n",
      "\n",
      "From /opt/.pyenv/versions/3.7.4/lib/python3.7/site-packages/deeppavlov/models/embedders/elmo_embedder.py:190: The name tf.placeholder is deprecated. Please use tf.compat.v1.placeholder instead.\n",
      "\n",
      "From /opt/.pyenv/versions/3.7.4/lib/python3.7/site-packages/deeppavlov/models/embedders/elmo_embedder.py:198: The name tf.global_variables_initializer is deprecated. Please use tf.compat.v1.global_variables_initializer instead.\n",
      "\n",
      "Done.\n",
      "Loading feature models...\n",
      "Done.\n",
      "Model for known predicates is loaded.\n",
      "Loading the model...\n",
      "Done.\n",
      "Loading embeddings...\n",
      "Model has no embeddings! Loading http://files.deeppavlov.ai/deeppavlov_data/elmo_ru-wiki_600k_steps.tar.gz\n",
      "Done.\n",
      "Loading feature models...\n",
      "Done.\n",
      "Model for unknown predicates is loaded.\n"
     ]
    }
   ],
   "source": [
    "from isanlp_srl_framebank.processor_srl_framebank import ProcessorSrlFramebank\n",
    "\n",
    "\n",
    "srl_parser = ProcessorSrlFramebank('../models/', \n",
    "                                   enable_model_for_unknown_predicates=True, \n",
    "                                   known_preds_embeddings_type='elmo',\n",
    "                                   unknown_preds_embeddings_type='elmo')"
   ]
  },
  {
   "cell_type": "code",
   "execution_count": 5,
   "metadata": {},
   "outputs": [],
   "source": [
    "from isanlp import PipelineCommon\n",
    "\n",
    "\n",
    "ppl = PipelineCommon([\n",
    "    (synt_proc, \n",
    "     ['text'], \n",
    "     {'tokens' : 'tokens', \n",
    "      'sentences' : 'sentences',\n",
    "      'postag' : 'postag',\n",
    "      'morph' : 'morph',\n",
    "      'lemma' : 'lemma',\n",
    "      'syntax_dep_tree' : 'syntax_dep_tree'}),\n",
    "    (srl_parser,\n",
    "     ['tokens', 'postag', 'morph', 'lemma', 'syntax_dep_tree'],\n",
    "     {0 : 'srl'})\n",
    "])"
   ]
  },
  {
   "cell_type": "code",
   "execution_count": 6,
   "metadata": {},
   "outputs": [
    {
     "name": "stdout",
     "output_type": "stream",
     "text": [
      "Using model for unknown predicates.\n",
      "predicting\n",
      "<tensorflow.lite.python.interpreter.Interpreter object at 0x7efb426f9490>\n",
      "(1, 1024)\n",
      "Done.\n",
      "predicting\n",
      "<tensorflow.lite.python.interpreter.Interpreter object at 0x7efb426f9490>\n",
      "(1, 1024)\n",
      "Done.\n",
      "Solving linear sum task.\n",
      "Finished.\n"
     ]
    }
   ],
   "source": [
    "text = 'Мы поехали на дачу.'\n",
    "ling_annots = ppl(text)"
   ]
  },
  {
   "cell_type": "code",
   "execution_count": 7,
   "metadata": {},
   "outputs": [
    {
     "name": "stdout",
     "output_type": "stream",
     "text": [
      "=====Pred: поехали\n",
      "Arg(субъект перемещения): мы\n",
      "Arg(конечная точка): дачу\n"
     ]
    }
   ],
   "source": [
    "def print_roles(lemma, role_annot):\n",
    "    for sent_num, ann_sent in enumerate(role_annot):\n",
    "        for event in ann_sent:\n",
    "            print('=====Pred: {}'.format(lemma[sent_num][event.pred[0]]))\n",
    "            for arg in event.args:\n",
    "                print('Arg({}): {}'.format(arg.tag, lemma[sent_num][arg.begin]))\n",
    "\n",
    "print_roles(ling_annots['lemma'], ling_annots['srl'])"
   ]
  }
 ],
 "metadata": {
  "kernelspec": {
   "display_name": "Python 3",
   "language": "python",
   "name": "python3"
  },
  "language_info": {
   "codemirror_mode": {
    "name": "ipython",
    "version": 3
   },
   "file_extension": ".py",
   "mimetype": "text/x-python",
   "name": "python",
   "nbconvert_exporter": "python",
   "pygments_lexer": "ipython3",
   "version": "3.7.4"
  }
 },
 "nbformat": 4,
 "nbformat_minor": 4
}
