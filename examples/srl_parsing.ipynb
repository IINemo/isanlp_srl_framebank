{
 "cells": [
  {
   "cell_type": "code",
   "execution_count": 1,
   "metadata": {},
   "outputs": [
    {
     "name": "stdout",
     "output_type": "stream",
     "text": [
      "/bin/sh: 1: docker: not found\n",
      "/bin/sh: 1: docker: not found\n",
      "/bin/sh: 1: docker: not found\n"
     ]
    }
   ],
   "source": [
    "# Starting containers\n",
    "\n",
    "!docker run --rm -p 3333:3333 inemo/isanlp\n",
    "!docker run --rm --shm-size=1024m -ti -p 3334:9999 inemo/syntaxnet_rus server 0.0.0.0 9999\n",
    "!docker run --rm -p 3335:3333 inemo/isanlp_srl_framebank"
   ]
  },
  {
   "cell_type": "code",
   "execution_count": null,
   "metadata": {},
   "outputs": [],
   "source": [
    "!pip install grpcio\n",
    "!pip install git+https://github.com/IINemo/isanlp\n",
    "!pip install git+https://github.com/IINemo/isanlp_srl_framebank"
   ]
  },
  {
   "cell_type": "code",
   "execution_count": 7,
   "metadata": {},
   "outputs": [
    {
     "name": "stdout",
     "output_type": "stream",
     "text": [
      "The autoreload extension is already loaded. To reload it, use:\n",
      "  %reload_ext autoreload\n"
     ]
    }
   ],
   "source": [
    "%load_ext autoreload\n",
    "%autoreload 2\n",
    "    \n",
    "import sys\n",
    "sys.path.append('../src')"
   ]
  },
  {
   "cell_type": "code",
   "execution_count": 8,
   "metadata": {},
   "outputs": [],
   "source": [
    "import logging\n",
    "logger = logging.getLogger('isanlp_srl_framebank')\n",
    "\n",
    "import sys\n",
    "logging.getLogger().addHandler(logging.StreamHandler(sys.stdout))\n",
    "\n",
    "logger.setLevel(logging.DEBUG)"
   ]
  },
  {
   "cell_type": "code",
   "execution_count": 9,
   "metadata": {},
   "outputs": [
    {
     "data": {
      "text/plain": [
       "{'text': 'Мы поехали на дачу.',\n",
       " 'tokens': [<isanlp.annotation.Token at 0x7fedb00a9d50>,\n",
       "  <isanlp.annotation.Token at 0x7fedb00a9f10>,\n",
       "  <isanlp.annotation.Token at 0x7fedb00a9f50>,\n",
       "  <isanlp.annotation.Token at 0x7fedb007e7d0>,\n",
       "  <isanlp.annotation.Token at 0x7fedb007edd0>],\n",
       " 'sentences': [<isanlp.annotation.Sentence at 0x7fedb00a7150>],\n",
       " 'mystem_postag': [['SPRO,мн,1-л=им',\n",
       "   'V,сов,нп=прош,мн,изъяв',\n",
       "   'PR=',\n",
       "   'S,жен,неод=вин,ед',\n",
       "   '']],\n",
       " 'lemma': [['мы', 'поехать', 'на', 'дача', '.']],\n",
       " 'syntax_dep_tree': [[<isanlp.annotation.WordSynt at 0x7fedb00b4410>,\n",
       "   <isanlp.annotation.WordSynt at 0x7fedb00b4550>,\n",
       "   <isanlp.annotation.WordSynt at 0x7fedb00b4590>,\n",
       "   <isanlp.annotation.WordSynt at 0x7fedb00b45d0>,\n",
       "   <isanlp.annotation.WordSynt at 0x7fedb00b4610>]],\n",
       " 'morph': [[{'fPOS': 'PRON', 'Number': 'Plur', 'Person': '1', 'Case': 'Nom'},\n",
       "   {'fPOS': 'VERB',\n",
       "    'Aspect': 'Perf',\n",
       "    'Valency': 'INTR',\n",
       "    'Tense': 'Past',\n",
       "    'Number': 'Plur',\n",
       "    'VerbForm': 'Fin'},\n",
       "   {'fPOS': 'ADP'},\n",
       "   {'fPOS': 'NOUN',\n",
       "    'Gender': 'Fem',\n",
       "    'Animacy': 'Inan',\n",
       "    'Case': 'Acc',\n",
       "    'Number': 'Sing'},\n",
       "   {}]],\n",
       " 'postag': [['PRON', 'VERB', 'ADP', 'NOUN', '']],\n",
       " 'srl': [[<isanlp.annotation.Event at 0x7fedb00ba2d0>]]}"
      ]
     },
     "execution_count": 9,
     "metadata": {},
     "output_type": "execute_result"
    }
   ],
   "source": [
    "from isanlp_srl_framebank.pipeline_default import PipelineDefault\n",
    "\n",
    "ppl = PipelineDefault(address_morph=('192.168.1.69', 3333),\n",
    "                      address_syntax=('192.168.1.69', 3334),\n",
    "                      address_srl=('192.168.1.69', 3335))\n",
    "\n",
    "res = ppl('Мы поехали на дачу.')\n",
    "res"
   ]
  },
  {
   "cell_type": "code",
   "execution_count": 10,
   "metadata": {},
   "outputs": [
    {
     "name": "stdout",
     "output_type": "stream",
     "text": [
      "=====Pred: поехать\n",
      "Arg(субъект перемещения): мы\n",
      "Arg(конечная точка): дача\n"
     ]
    }
   ],
   "source": [
    "def print_roles(lemma, role_annot):\n",
    "    for sent_num, ann_sent in enumerate(role_annot):\n",
    "        for event in ann_sent:\n",
    "            print('=====Pred: {}'.format(lemma[sent_num][event.pred[0]]))\n",
    "            for arg in event.args:\n",
    "                print('Arg({}): {}'.format(arg.tag, lemma[sent_num][arg.begin]))\n",
    "\n",
    "print_roles(res['lemma'], res['srl'])"
   ]
  }
 ],
 "metadata": {
  "kernelspec": {
   "display_name": "Python 3",
   "language": "python",
   "name": "python3"
  },
  "language_info": {
   "codemirror_mode": {
    "name": "ipython",
    "version": 3
   },
   "file_extension": ".py",
   "mimetype": "text/x-python",
   "name": "python",
   "nbconvert_exporter": "python",
   "pygments_lexer": "ipython3",
   "version": "3.7.4"
  }
 },
 "nbformat": 4,
 "nbformat_minor": 4
}
