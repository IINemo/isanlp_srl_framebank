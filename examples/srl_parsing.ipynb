{
 "cells": [
  {
   "cell_type": "code",
   "execution_count": null,
   "metadata": {},
   "outputs": [],
   "source": [
    "# Starting containers\n",
    "\n",
    "!docker run --rm -p 3333:3333 inemo/isanlp\n",
    "!docker run --rm --shm-size=1024m -ti -p 3334:9999 inemo/syntaxnet_rus server 0.0.0.0 9999\n",
    "!docker run --rm -p 3335:3333 inemo/isanlp_srl_framebank"
   ]
  },
  {
   "cell_type": "code",
   "execution_count": null,
   "metadata": {},
   "outputs": [],
   "source": [
    "!pip install grpcio\n",
    "!pip install git+https://github.com/IINemo/isanlp\n",
    "!pip install git+https://github.com/IINemo/isanlp_srl_framebank"
   ]
  },
  {
   "cell_type": "code",
   "execution_count": 8,
   "metadata": {},
   "outputs": [
    {
     "data": {
      "text/plain": [
       "{'text': 'Мы поехали на дачу.',\n",
       " 'tokens': [<isanlp.annotation.Token at 0x7f388946e5f8>,\n",
       "  <isanlp.annotation.Token at 0x7f388946e860>,\n",
       "  <isanlp.annotation.Token at 0x7f388946e4e0>,\n",
       "  <isanlp.annotation.Token at 0x7f388946e940>,\n",
       "  <isanlp.annotation.Token at 0x7f388946e208>],\n",
       " 'sentences': [<isanlp.annotation.Sentence at 0x7f388946e4a8>],\n",
       " 'mystem_postag': [['SPRO,мн,1-л=им',\n",
       "   'V,сов,нп=прош,мн,изъяв',\n",
       "   'PR=',\n",
       "   'S,жен,неод=вин,ед',\n",
       "   '']],\n",
       " 'lemma': [['мы', 'поехать', 'на', 'дача', '.']],\n",
       " 'syntax_dep_tree': [[<isanlp.annotation.WordSynt at 0x7f388946e240>,\n",
       "   <isanlp.annotation.WordSynt at 0x7f388946e400>,\n",
       "   <isanlp.annotation.WordSynt at 0x7f388946e908>,\n",
       "   <isanlp.annotation.WordSynt at 0x7f388946d9e8>,\n",
       "   <isanlp.annotation.WordSynt at 0x7f388946d470>]],\n",
       " 'morph': [[{'fPOS': 'PRON', 'Number': 'Plur', 'Person': '1', 'Case': 'Nom'},\n",
       "   {'fPOS': 'VERB',\n",
       "    'Aspect': 'Perf',\n",
       "    'Valency': 'INTR',\n",
       "    'Tense': 'Past',\n",
       "    'Number': 'Plur',\n",
       "    'VerbForm': 'Fin'},\n",
       "   {'fPOS': 'ADP'},\n",
       "   {'fPOS': 'NOUN',\n",
       "    'Gender': 'Fem',\n",
       "    'Animacy': 'Inan',\n",
       "    'Case': 'Acc',\n",
       "    'Number': 'Sing'},\n",
       "   {}]],\n",
       " 'postag': [['PRON', 'VERB', 'ADP', 'NOUN', '']],\n",
       " 'srl': [[<isanlp.annotation.Event at 0x7f38883fa1d0>]]}"
      ]
     },
     "execution_count": 8,
     "metadata": {},
     "output_type": "execute_result"
    }
   ],
   "source": [
    "from isanlp_srl_framebank.pipeline_default import PipelineDefault\n",
    "\n",
    "ppl = PipelineDefault(address_morph=('localhost', 3333),\n",
    "                      address_syntax=('localhost', 3334),\n",
    "                      address_srl=('localhost', 3335))\n",
    "\n",
    "res = ppl('Мы поехали на дачу.')\n",
    "res"
   ]
  },
  {
   "cell_type": "code",
   "execution_count": 9,
   "metadata": {},
   "outputs": [
    {
     "name": "stdout",
     "output_type": "stream",
     "text": [
      "=====Pred: поехать\n",
      "Arg(субъект перемещения): мы\n",
      "Arg(конечная точка): дача\n"
     ]
    }
   ],
   "source": [
    "def print_roles(lemma, role_annot):\n",
    "    for sent_num, ann_sent in enumerate(role_annot):\n",
    "        for event in ann_sent:\n",
    "            print('=====Pred: {}'.format(lemma[sent_num][event.pred[0]]))\n",
    "            for arg in event.args:\n",
    "                print('Arg({}): {}'.format(arg.tag, lemma[sent_num][arg.begin]))\n",
    "\n",
    "print_roles(res['lemma'], res['srl'])"
   ]
  }
 ],
 "metadata": {
  "kernelspec": {
   "display_name": "Python 3",
   "language": "python",
   "name": "python3"
  },
  "language_info": {
   "codemirror_mode": {
    "name": "ipython",
    "version": 3
   },
   "file_extension": ".py",
   "mimetype": "text/x-python",
   "name": "python",
   "nbconvert_exporter": "python",
   "pygments_lexer": "ipython3",
   "version": "3.6.4"
  }
 },
 "nbformat": 4,
 "nbformat_minor": 2
}
