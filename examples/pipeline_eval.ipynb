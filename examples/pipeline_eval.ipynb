{
 "cells": [
  {
   "cell_type": "code",
   "execution_count": 1,
   "metadata": {},
   "outputs": [],
   "source": [
    "import sys\n",
    "import json\n",
    "from pprint import pprint as print_\n",
    "\n",
    "sys.path.append(\"../src/\")\n",
    "\n",
    "import numpy as np\n",
    "from tqdm import tqdm_notebook as tqdm\n",
    "\n",
    "from isanlp_srl_framebank.pipeline_default import PipelineDefault"
   ]
  },
  {
   "cell_type": "code",
   "execution_count": 2,
   "metadata": {},
   "outputs": [],
   "source": [
    "ppl = PipelineDefault(address_morph=('vmh1.isa.ru', 3300),\n",
    "                      address_syntax=('vmh1.isa.ru', 3311),\n",
    "                      address_srl=('vmh1.isa.ru', 3322))"
   ]
  },
  {
   "cell_type": "code",
   "execution_count": 3,
   "metadata": {},
   "outputs": [],
   "source": [
    "def get_roles_pred(lemma, role_annot, part_id):\n",
    "    ann_sent = role_annot[part_id]\n",
    "    predicates = {}\n",
    "    arguments = {}\n",
    "    for event in ann_sent:\n",
    "        predicate = {\n",
    "            'lemma': lemma[part_id][event.pred[0]],\n",
    "        }\n",
    "        predicates[event.pred[0]] = predicate\n",
    "        arguments[event.pred[0]] = []\n",
    "        for arg in event.args:\n",
    "            #print(vars(arg))\n",
    "            argument = {\n",
    "                'tag': arg.tag,\n",
    "                'lemma': lemma[part_id][arg.begin]\n",
    "            }\n",
    "            arguments[event.pred[0]].append(argument)\n",
    "            \n",
    "    return predicates, arguments"
   ]
  },
  {
   "cell_type": "code",
   "execution_count": 4,
   "metadata": {},
   "outputs": [],
   "source": [
    "def get_example(corpus, ex_number, part_id):\n",
    "    words = []\n",
    "    for obj in corpus[ex_number][1][part_id]:\n",
    "        words.append(obj['form'])\n",
    "        \n",
    "    return \" \".join(words)\n",
    "\n",
    "def get_roles_true(corpus, ex_number, part_id):\n",
    "    predicates = {}\n",
    "    arguments = {}\n",
    "    for i, obj in enumerate(corpus[ex_number][1][part_id]):\n",
    "        if 'rank' in obj:\n",
    "            if obj['rank'] == 'Предикат':\n",
    "                predicate = {\n",
    "                    'lemma': obj['lemma']\n",
    "                }\n",
    "                predicates[i] = predicate\n",
    "            else:\n",
    "                argument = {\n",
    "                    'lemma': obj['lemma'],\n",
    "                    'tag': obj['rolepred1']\n",
    "                }\n",
    "                pred_id = obj['fillpred']\n",
    "                if pred_id not in arguments.keys():\n",
    "                    arguments[pred_id] = []\n",
    "                arguments[pred_id].append(argument)\n",
    "    return predicates, arguments"
   ]
  },
  {
   "cell_type": "code",
   "execution_count": 5,
   "metadata": {},
   "outputs": [],
   "source": [
    "with open(\"../data/cleared_corpus.json\", 'r', encoding='utf-8') as f:\n",
    "    corpus = json.load(f)"
   ]
  },
  {
   "cell_type": "code",
   "execution_count": 6,
   "metadata": {},
   "outputs": [],
   "source": [
    "def random_predictions(corpus, ppl, n_samples=100):\n",
    "    samples_idxs = np.random.choice(len(corpus), size=n_samples)\n",
    "    true_roles = [get_roles_true(corpus, ex_num, 0) for ex_num in samples_idxs]\n",
    "    texts = [get_example(corpus, ex_num, 0) for ex_num in samples_idxs]\n",
    "    pred_roles = [ppl(text) for text in tqdm(texts, desc='Analyzing texts')]\n",
    "    pred_roles = [get_roles_pred(res['lemma'], res['srl'], 0) for res in pred_roles]\n",
    "    return true_roles, pred_roles"
   ]
  },
  {
   "cell_type": "code",
   "execution_count": null,
   "metadata": {},
   "outputs": [
    {
     "data": {
      "application/vnd.jupyter.widget-view+json": {
       "model_id": "134abfbe43ae453990a74021a1452889",
       "version_major": 2,
       "version_minor": 0
      },
      "text/plain": [
       "HBox(children=(IntProgress(value=0, description='Analyzing texts'), HTML(value='')))"
      ]
     },
     "metadata": {},
     "output_type": "display_data"
    }
   ],
   "source": [
    "true_roles, pred_roles = random_predictions(corpus, ppl, n_samples=100)"
   ]
  },
  {
   "cell_type": "code",
   "execution_count": 13,
   "metadata": {},
   "outputs": [],
   "source": [
    "def compute_metrics(y_pred, y_true, weak_matching=False):\n",
    "    true_positive = 0\n",
    "    condition_positive = 0\n",
    "    predicted_condition_positive = 0\n",
    "    \n",
    "    for i, (true_predicates, true_arguments) in enumerate(y_true):\n",
    "        num_true_predicates = len(true_predicates)\n",
    "        condition_positive += num_true_predicates\n",
    "        \n",
    "        pred_predicates, pred_arguments = y_pred[i]\n",
    "        \n",
    "        predicted_condition_positive += len(pred_predicates)\n",
    "        \n",
    "        for true_pred_idx, true_predicate in true_predicates.items():\n",
    "            if true_pred_idx in pred_predicates:\n",
    "                true_arguments_i = true_arguments[true_pred_idx]\n",
    "                pred_arguments_i = pred_arguments[true_pred_idx]\n",
    "                \n",
    "                if len(true_arguments_i) == len(pred_arguments_i):\n",
    "                    for obj in true_arguments_i:\n",
    "                        true_tag = obj['tag']\n",
    "                        true_lemma = obj['lemma']\n",
    "                        for obj_pred in pred_arguments_i:\n",
    "                            if weak_matching:\n",
    "                                if obj_pred['tag'] == true_tag:\n",
    "                                    true_positive += 1\n",
    "                            else:\n",
    "                                if obj_pred['tag'] == true_tag and obj_pred['lemma'] == true_lemma:\n",
    "                                    true_positive += 1\n",
    "                                \n",
    "    recall = true_positive/condition_positive  \n",
    "    percision = true_positive/predicted_condition_positive\n",
    "    \n",
    "    return {\n",
    "        'recall': recall,\n",
    "        'percision': percision,\n",
    "        'f1': 2 * ((percision*recall)/(percision+recall))\n",
    "    }"
   ]
  },
  {
   "cell_type": "code",
   "execution_count": 14,
   "metadata": {},
   "outputs": [
    {
     "data": {
      "text/plain": [
       "{'recall': 0.2, 'percision': 0.035897435897435895, 'f1': 0.06086956521739131}"
      ]
     },
     "execution_count": 14,
     "metadata": {},
     "output_type": "execute_result"
    }
   ],
   "source": [
    "compute_metrics(y_pred=pred_roles, y_true=true_roles)"
   ]
  },
  {
   "cell_type": "code",
   "execution_count": 13,
   "metadata": {},
   "outputs": [
    {
     "data": {
      "text/plain": [
       "{'recall': 0.0972972972972973, 'percision': 0.45, 'f1': 0.16}"
      ]
     },
     "execution_count": 13,
     "metadata": {},
     "output_type": "execute_result"
    }
   ],
   "source": [
    "compute_metrics(true_roles, pred_roles)"
   ]
  },
  {
   "cell_type": "code",
   "execution_count": 19,
   "metadata": {
    "collapsed": true
   },
   "outputs": [
    {
     "name": "stdout",
     "output_type": "stream",
     "text": [
      "========================================\n",
      "Example:  10\n",
      "==========\n",
      "True\n",
      "({9: {'lemma': 'зависеть'}},\n",
      " {9: [{'lemma': 'стоимость', 'tag': 'пациенс'},\n",
      "      {'lemma': 'количество', 'tag': 'причина'}]})\n",
      "Predict\n",
      "({9: {'lemma': 'зависеть'}},\n",
      " {9: [{'lemma': 'стоимость', 'tag': 'пациенс'},\n",
      "      {'lemma': 'количество', 'tag': 'причина'}]})\n",
      "========================================\n",
      "Example:  11\n",
      "==========\n",
      "True\n",
      "({26: {'lemma': 'зависеть'}},\n",
      " {26: [{'lemma': 'который', 'tag': 'пациенс'},\n",
      "       {'lemma': 'преобладание', 'tag': 'причина'}]})\n",
      "Predict\n",
      "({}, {})\n",
      "========================================\n",
      "Example:  12\n",
      "==========\n",
      "True\n",
      "({28: {'lemma': 'зависеть'}}, {28: [{'lemma': 'работа', 'tag': 'причина'}]})\n",
      "Predict\n",
      "({}, {})\n",
      "========================================\n",
      "Example:  13\n",
      "==========\n",
      "True\n",
      "({26: {'lemma': 'зависеть'}},\n",
      " {26: [{'lemma': 'майор', 'tag': 'пациенс'},\n",
      "       {'lemma': 'желание', 'tag': 'причина'}]})\n",
      "Predict\n",
      "({5: {'lemma': 'попадать'}},\n",
      " {5: [{'lemma': 'экзерсис', 'tag': 'способ'},\n",
      "      {'lemma': 'переплет', 'tag': 'конечная точка'}]})\n",
      "========================================\n",
      "Example:  14\n",
      "==========\n",
      "True\n",
      "({22: {'lemma': 'зависеть'}},\n",
      " {22: [{'lemma': 'параметр', 'tag': 'пациенс'},\n",
      "       {'lemma': 'действие', 'tag': 'причина'}]})\n",
      "Predict\n",
      "({3: {'lemma': 'признавать'}}, {3: [{'lemma': 'факт', 'tag': 'стимул'}]})\n",
      "========================================\n",
      "Example:  15\n",
      "==========\n",
      "True\n",
      "({22: {'lemma': 'зависеть'}},\n",
      " {22: [{'lemma': 'всё', 'tag': 'пациенс'}, {'lemma': 'вы', 'tag': 'причина'}]})\n",
      "Predict\n",
      "({}, {})\n",
      "========================================\n",
      "Example:  16\n",
      "==========\n",
      "True\n",
      "({6: {'lemma': 'зависеть'}}, {6: [{'lemma': 'учитель', 'tag': 'причина'}]})\n",
      "Predict\n",
      "({}, {})\n",
      "========================================\n",
      "Example:  17\n",
      "==========\n",
      "True\n",
      "({2: {'lemma': 'зависеть'}}, {2: [{'lemma': 'заказчик', 'tag': 'причина'}]})\n",
      "Predict\n",
      "({2: {'lemma': 'зависеть'},\n",
      "  6: {'lemma': 'заставлять'},\n",
      "  10: {'lemma': 'присматриваться'}},\n",
      " {2: [{'lemma': 'заказчик', 'tag': 'причина'}],\n",
      "  6: [{'lemma': 'нежелание', 'tag': 'причина'},\n",
      "      {'lemma': 'компания', 'tag': 'пациенс'}],\n",
      "  10: [{'lemma': 'пристальный', 'tag': 'признак действия'},\n",
      "       {'lemma': 'бизнес', 'tag': 'конечная точка'}]})\n",
      "========================================\n",
      "Example:  18\n",
      "==========\n",
      "True\n",
      "({23: {'lemma': 'зависеть'}},\n",
      " {23: [{'lemma': 'удаление', 'tag': 'пациенс'},\n",
      "       {'lemma': 'усилие', 'tag': 'причина'}]})\n",
      "Predict\n",
      "({10: {'lemma': 'сближать'}, 13: {'lemma': 'удалять'}},\n",
      " {10: [{'lemma': 'скорость', 'tag': 'способ'}],\n",
      "  13: [{'lemma': 'они', 'tag': 'пациенс'}, {'lemma': 'друг', 'tag': 'агенс'}]})\n",
      "========================================\n",
      "Example:  19\n",
      "==========\n",
      "True\n",
      "({25: {'lemma': 'зависеть'}},\n",
      " {25: [{'lemma': 'величина', 'tag': 'пациенс'},\n",
      "       {'lemma': 'величина', 'tag': 'причина'}]})\n",
      "Predict\n",
      "({}, {})\n"
     ]
    }
   ],
   "source": [
    "for i in range(10, 20):\n",
    "    text = get_example(corpus, i, 0)\n",
    "    res = ppl(text)\n",
    "    pred = get_roles_pred(res['lemma'], res['srl'], 0)\n",
    "    true = get_roles_true(corpus, i, 0)\n",
    "    print(\"=\"*40)\n",
    "    print(\"Example: \", i)\n",
    "    print(\"=\"*10)\n",
    "    print(\"True\")\n",
    "    print_(true)\n",
    "    print(\"Predict\")\n",
    "    print_(pred)"
   ]
  },
  {
   "cell_type": "code",
   "execution_count": null,
   "metadata": {},
   "outputs": [],
   "source": []
  }
 ],
 "metadata": {
  "kernelspec": {
   "display_name": "Python 3",
   "language": "python",
   "name": "python3"
  },
  "language_info": {
   "codemirror_mode": {
    "name": "ipython",
    "version": 3
   },
   "file_extension": ".py",
   "mimetype": "text/x-python",
   "name": "python",
   "nbconvert_exporter": "python",
   "pygments_lexer": "ipython3",
   "version": "3.6.4"
  }
 },
 "nbformat": 4,
 "nbformat_minor": 2
}
